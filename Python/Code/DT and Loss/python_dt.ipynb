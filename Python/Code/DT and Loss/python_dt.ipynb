{
 "cells": [
  {
   "cell_type": "markdown",
   "metadata": {
    "id": "NMGznkMpqism"
   },
   "source": [
    "### Import Packages\n"
   ]
  },
  {
   "cell_type": "code",
   "execution_count": 1,
   "metadata": {
    "id": "gQXi0jGsqOHn"
   },
   "outputs": [],
   "source": [
    "import torch\n",
    "import numpy as np\n",
    "import time\n",
    "from scipy.ndimage import distance_transform_edt as distance\n",
    "from scipy.ndimage import _nd_image"
   ]
  },
  {
   "cell_type": "code",
   "execution_count": 2,
   "metadata": {
    "colab": {
     "base_uri": "https://localhost:8080/"
    },
    "id": "M3jq1u3SqmqC",
    "outputId": "0e3cb19d-0bb1-4327-be61-9a71586f79b4"
   },
   "outputs": [
    {
     "name": "stdout",
     "output_type": "stream",
     "text": [
      "cuda:0\n"
     ]
    }
   ],
   "source": [
    "device = torch.device(\"cuda:0\")\n",
    "print(device)"
   ]
  },
  {
   "cell_type": "markdown",
   "metadata": {
    "id": "HZORCpWdqpdX"
   },
   "source": [
    "## Benchmarks"
   ]
  },
  {
   "cell_type": "code",
   "execution_count": 3,
   "metadata": {},
   "outputs": [],
   "source": [
    "num_range = range(1, 510, 10)"
   ]
  },
  {
   "cell_type": "code",
   "execution_count": 4,
   "metadata": {
    "id": "7t4PRC4yqt5a"
   },
   "outputs": [],
   "source": [
    "# 2D\n",
    "sizes_2D = []\n",
    "dt_2D_mean = []\n",
    "dt_2D_std = []\n",
    "\t\n",
    "dt_2D_GPU_mean = []\n",
    "dt_2D_GPU_std = []\n",
    "\n",
    "dt_2D_times = []\n",
    "dt_2D_GPU_times = []"
   ]
  },
  {
   "cell_type": "code",
   "execution_count": 5,
   "metadata": {},
   "outputs": [],
   "source": [
    "# 2D on 3D image\n",
    "dt_2v3D_mean = []\n",
    "dt_2v3D_std = []\n",
    "\t\n",
    "dt_2v3D_GPU_mean = []\n",
    "dt_2v3D_GPU_std = []\n",
    "\n",
    "dt_2v3D_times = []\n",
    "dt_2v3D_GPU_times = []"
   ]
  },
  {
   "cell_type": "code",
   "execution_count": 6,
   "metadata": {},
   "outputs": [],
   "source": [
    "#3D\n",
    "sizes_3D = []\n",
    "dt_3D_mean = []\n",
    "dt_3D_std = []\n",
    "\t\n",
    "dt_3D_GPU_mean = []\n",
    "dt_3D_GPU_std = []\n",
    "\n",
    "dt_3D_times = []\n",
    "dt_3D_GPU_times = []"
   ]
  },
  {
   "cell_type": "code",
   "execution_count": 7,
   "metadata": {},
   "outputs": [],
   "source": [
    "test_cases_2D = []\n",
    "\n",
    "for n in num_range:\n",
    "    _size = n^2\n",
    "    sizes_2D.append(_size)\n",
    "    test_cases_2D.append(torch.randint(0,2,(n,n)))"
   ]
  },
  {
   "cell_type": "code",
   "execution_count": 8,
   "metadata": {},
   "outputs": [],
   "source": [
    "test_cases_3D = []\n",
    "\n",
    "for n in num_range:\n",
    "    _size = n^3\n",
    "    sizes_3D.append(_size)\n",
    "    test_cases_3D.append(torch.randint(0,2,(n,n,n)))"
   ]
  },
  {
   "cell_type": "code",
   "execution_count": 9,
   "metadata": {
    "id": "uarwNS8iqxi6"
   },
   "outputs": [
    {
     "name": "stdout",
     "output_type": "stream",
     "text": [
      "Size:  1\n",
      "Size:  11\n",
      "Size:  21\n",
      "Size:  31\n",
      "Size:  41\n",
      "Size:  51\n",
      "Size:  61\n",
      "Size:  71\n",
      "Size:  81\n",
      "Size:  91\n",
      "Size:  101\n",
      "Size:  111\n",
      "Size:  121\n",
      "Size:  131\n",
      "Size:  141\n",
      "Size:  151\n",
      "Size:  161\n",
      "Size:  171\n",
      "Size:  181\n",
      "Size:  191\n",
      "Size:  201\n",
      "Size:  211\n",
      "Size:  221\n",
      "Size:  231\n",
      "Size:  241\n",
      "Size:  251\n",
      "Size:  261\n",
      "Size:  271\n",
      "Size:  281\n",
      "Size:  291\n",
      "Size:  301\n",
      "Size:  311\n",
      "Size:  321\n",
      "Size:  331\n",
      "Size:  341\n",
      "Size:  351\n",
      "Size:  361\n",
      "Size:  371\n",
      "Size:  381\n",
      "Size:  391\n",
      "Size:  401\n",
      "Size:  411\n",
      "Size:  421\n",
      "Size:  431\n",
      "Size:  441\n",
      "Size:  451\n",
      "Size:  461\n",
      "Size:  471\n",
      "Size:  481\n",
      "Size:  491\n",
      "Size:  501\n"
     ]
    }
   ],
   "source": [
    "#2D times\n",
    "for array in test_cases_2D:\n",
    "  # Euclidean Distance CPU\n",
    "  print(\"Size: \",  len(array))\n",
    "  a = []\n",
    "  for j in range(1000): #Evaluations\n",
    "    times1 = time.time_ns()\n",
    "    tfm1 = torch.from_numpy(distance(array))\n",
    "    times2 = time.time_ns()\n",
    "    a.append(times2-times1)\n",
    "    if sum(a) > (30*60*(10**9)):\n",
    "      break\n",
    "  dt_2D_times.append(a)\n",
    "\n",
    "\n",
    "# for n in range(2,210,10):\n",
    "#   # Euclidean Distance GPU\n",
    "#   temp_dt_GPU_time = []\n",
    "#   for i in range(100): #Samples\n",
    "#     b = []\n",
    "#     for j in range(10): #Evaluations\n",
    "#       x2 = torch.randint(0,2,(n,n)).to(device)\n",
    "#       times2 = time.time()\n",
    "#       tfm2 = torch.from_numpy(distance(x2.cpu().numpy())).to(device)  \n",
    "#       b.append(time.time()-times2)\n",
    "#     temp_dt_GPU_time.append(torch.mean(torch.FloatTensor(b)))\n",
    "#   dt_2D_GPU_times.append(temp_dt_GPU_time)\n"
   ]
  },
  {
   "cell_type": "code",
   "execution_count": 10,
   "metadata": {},
   "outputs": [],
   "source": [
    "# # 2D times on 3D image\n",
    "# for n in range(2,1000,10):\n",
    "#   # Euclidean Distance CPU\n",
    "#   temp_dt_time = []\n",
    "#   for i in range(100): #Samples\n",
    "#     a = []\n",
    "#     for j in range(10): #Evaluations\n",
    "#       x1 = torch.randint(0,2,(n,n,n))\n",
    "#       times1 = time.time()\n",
    "#       for k in range(n):\n",
    "#         slice = x1[:,:,k]\n",
    "#         tfm1 = torch.from_numpy(distance(slice))\n",
    "#       a.append(time.time()-times1)\n",
    "#     temp_dt_time.append(torch.mean(torch.FloatTensor(a)))\n",
    "#   dt_2v3D_times.append(temp_dt_time)\n",
    "\n",
    "\n",
    "# # for n in range(2,210,10):\n",
    "# #   # Euclidean Distance GPU\n",
    "# #   temp_dt_GPU_time = []\n",
    "# #   for i in range(100): #Samples\n",
    "# #     b = []\n",
    "# #     for j in range(10): #Evaluations\n",
    "# #       x2 = torch.randint(0,2,(n,n,n)).to(device)\n",
    "# #       times2 = time.time()\n",
    "# #       for k in range(n):\n",
    "# #         slice = x2[:,:,k]\n",
    "# #         tfm2 = torch.from_numpy(distance(slice.cpu().numpy())).to(device)  \n",
    "# #       b.append(time.time()-times2)\n",
    "# #     temp_dt_GPU_time.append(torch.mean(torch.FloatTensor(b)))\n",
    "# #   dt_2v3D_GPU_times.append(temp_dt_GPU_time)\n"
   ]
  },
  {
   "cell_type": "code",
   "execution_count": 11,
   "metadata": {},
   "outputs": [
    {
     "name": "stdout",
     "output_type": "stream",
     "text": [
      "Size:  1\n",
      "Size:  11\n",
      "Size:  21\n",
      "Size:  31\n",
      "Size:  41\n",
      "Size:  51\n",
      "Size:  61\n",
      "Size:  71\n",
      "Size:  81\n",
      "Size:  91\n",
      "Size:  101\n",
      "Size:  111\n",
      "Size:  121\n",
      "Size:  131\n",
      "Size:  141\n",
      "Size:  151\n",
      "Size:  161\n",
      "Size:  171\n",
      "Size:  181\n",
      "Size:  191\n",
      "Size:  201\n",
      "Size:  211\n",
      "Size:  221\n",
      "Size:  231\n",
      "Size:  241\n",
      "Size:  251\n",
      "Size:  261\n",
      "Size:  271\n",
      "Size:  281\n",
      "Size:  291\n",
      "Size:  301\n",
      "Size:  311\n",
      "Size:  321\n",
      "Size:  331\n",
      "Size:  341\n",
      "Size:  351\n",
      "Size:  361\n",
      "Size:  371\n",
      "Size:  381\n",
      "Size:  391\n",
      "Size:  401\n",
      "Size:  411\n",
      "Size:  421\n",
      "Size:  431\n",
      "Size:  441\n",
      "Size:  451\n",
      "Size:  461\n",
      "Size:  471\n",
      "Size:  481\n",
      "Size:  491\n",
      "Size:  501\n"
     ]
    }
   ],
   "source": [
    "#3D times\n",
    "for array in test_cases_3D:\n",
    "  # Euclidean Distance CPU\n",
    "  print(\"Size: \",  len(array))\n",
    "  a = []\n",
    "  for j in range(1000): #Evaluations\n",
    "    times1 = time.time_ns()\n",
    "    tfm1 = torch.from_numpy(distance(array))\n",
    "    times2 = time.time_ns()\n",
    "    a.append(times2-times1)\n",
    "    if sum(a) > (20*60*(10**9)):\n",
    "      break\n",
    "  dt_3D_times.append(a)\n",
    "\n",
    "\n",
    "# for n in range(2,210,100):\n",
    "#   # Euclidean Distance GPU\n",
    "#   temp_dt_GPU_time = []\n",
    "#   for i in range(100): #Samples\n",
    "#     b = []\n",
    "#     for j in range(10): #Evaluations\n",
    "#       x2 = torch.randint(0,2,(n,n,n)).to(device)\n",
    "#       times2 = time.time()\n",
    "#       tfm2 = torch.from_numpy(distance(x2.cpu().numpy())).to(device)  \n",
    "#       b.append(time.time()-times2)\n",
    "#     temp_dt_GPU_time.append(torch.mean(torch.FloatTensor(b)))\n",
    "#   dt_3D_GPU_times.append(temp_dt_GPU_time)\n"
   ]
  },
  {
   "cell_type": "code",
   "execution_count": 12,
   "metadata": {
    "id": "byFKe1nlzFA8"
   },
   "outputs": [],
   "source": [
    "#2D means\n",
    "for i in dt_2D_times:\n",
    "  dt_2D_mean.append(torch.mean(torch.FloatTensor(i)).numpy().tolist())\n",
    "  dt_2D_std.append(torch.std(torch.FloatTensor(i), unbiased = False).numpy().tolist())"
   ]
  },
  {
   "cell_type": "code",
   "execution_count": 13,
   "metadata": {},
   "outputs": [],
   "source": [
    "# #2D means on 3D image\n",
    "# for i in dt_2v3D_times:\n",
    "#   dt_2v3D_mean.append(torch.mean(torch.FloatTensor(i)).numpy().tolist())\n",
    "#   dt_2v3D_std.append(torch.std(torch.FloatTensor(i), unbiased = False).numpy().tolist())"
   ]
  },
  {
   "cell_type": "code",
   "execution_count": 14,
   "metadata": {},
   "outputs": [],
   "source": [
    "#3D means\n",
    "for i in dt_3D_times:\n",
    "  dt_3D_mean.append(torch.mean(torch.FloatTensor(i)).numpy().tolist())\n",
    "  dt_3D_std.append(torch.std(torch.FloatTensor(i), unbiased = False).numpy().tolist())"
   ]
  },
  {
   "cell_type": "code",
   "execution_count": 15,
   "metadata": {
    "id": "J874jT4SzFDo"
   },
   "outputs": [],
   "source": [
    "#2D means GPU\n",
    "for i in dt_2D_GPU_times:\n",
    "  dt_2D_GPU_mean.append(torch.mean(torch.FloatTensor(i)).numpy().tolist())\n",
    "  dt_2D_GPU_std.append(torch.std(torch.FloatTensor(i), unbiased = False).numpy().tolist())"
   ]
  },
  {
   "cell_type": "code",
   "execution_count": 16,
   "metadata": {},
   "outputs": [],
   "source": [
    "# #2D means 3D image GPU\n",
    "# for i in dt_2v3D_GPU_times:\n",
    "#   dt_2v3D_GPU_mean.append(torch.mean(torch.FloatTensor(i)).numpy().tolist())\n",
    "#   dt_2v3D_GPU_std.append(torch.std(torch.FloatTensor(i), unbiased = False).numpy().tolist())"
   ]
  },
  {
   "cell_type": "code",
   "execution_count": 17,
   "metadata": {},
   "outputs": [],
   "source": [
    "#3D means GPU\n",
    "for i in dt_3D_GPU_times:\n",
    "  dt_3D_GPU_mean.append(torch.mean(torch.FloatTensor(i)).numpy().tolist())\n",
    "  dt_3D_GPU_std.append(torch.std(torch.FloatTensor(i), unbiased = False).numpy().tolist())"
   ]
  },
  {
   "cell_type": "markdown",
   "metadata": {
    "id": "gQJJzWlFzhIv"
   },
   "source": [
    "## Save"
   ]
  },
  {
   "cell_type": "code",
   "execution_count": 18,
   "metadata": {
    "id": "dEMka94uzfmf"
   },
   "outputs": [],
   "source": [
    "import pandas as pd"
   ]
  },
  {
   "cell_type": "code",
   "execution_count": 19,
   "metadata": {
    "id": "MgHczlpwzgmp"
   },
   "outputs": [],
   "source": [
    "dt_2D_mean = np.array(dt_2D_mean)\n",
    "dt_2D_GPU_mean = np.array(dt_2D_GPU_mean)\n",
    "dt_2D_std = np.array(dt_2D_std)\n",
    "dt_2D_GPU_std = np.array(dt_2D_GPU_std)\n",
    "# dt_2v3D_mean = np.array(dt_2v3D_mean)\n",
    "# dt_2v3D_GPU_mean = np.array(dt_2v3D_GPU_mean)\n",
    "# dt_2v3D_std = np.array(dt_2v3D_std)\n",
    "# dt_2v3D_GPU_std = np.array(dt_2v3D_GPU_std)\n",
    "dt_3D_mean = np.array(dt_3D_mean)\n",
    "dt_3D_GPU_mean = np.array(dt_3D_GPU_mean)\n",
    "dt_3D_std = np.array(dt_3D_std)\n",
    "dt_3D_GPU_std = np.array(dt_3D_GPU_std)"
   ]
  },
  {
   "cell_type": "code",
   "execution_count": 20,
   "metadata": {
    "id": "cOga857Hz0W4"
   },
   "outputs": [],
   "source": [
    "data2D = {'sizes_2D': sizes_2D, 'dt_mean_cpu_2D': dt_2D_mean, 'dt_std_cpu_2D': dt_2D_std}\n",
    "\n",
    "\n",
    "# data2D = {'dt_mean_cpu_2D': dt_2D_mean, 'dt_std_cpu_2D': dt_2D_std, 'dt_mean_2D': dt_2D_GPU_mean, 'dt_std_gpu_2D': dt_2D_GPU_std\n",
    "#  }"
   ]
  },
  {
   "cell_type": "code",
   "execution_count": 21,
   "metadata": {},
   "outputs": [],
   "source": [
    "data3D = {'sizes_3D': sizes_3D, 'dt_mean_cpu_3D': dt_3D_mean, 'dt_std_cpu_3D': dt_3D_std}"
   ]
  },
  {
   "cell_type": "code",
   "execution_count": 22,
   "metadata": {
    "id": "gGycv12z0EgE"
   },
   "outputs": [],
   "source": [
    "dataframe2D = pd.DataFrame(data2D)\n",
    "dataframe3D = pd.DataFrame(data3D)"
   ]
  },
  {
   "cell_type": "code",
   "execution_count": 23,
   "metadata": {
    "id": "PnZwI5im0F8K"
   },
   "outputs": [],
   "source": [
    "dataframe2D.to_csv(\"C:/Users/wenbl13/Desktop/Ashwin-Timing/distance-transforms/purePython_DT_2D_Nov06.csv\")\n",
    "dataframe3D.to_csv(\"C:/Users/wenbl13/Desktop/Ashwin-Timing/distance-transforms/purePython_DT_3D_Nov06.csv\")"
   ]
  },
  {
   "cell_type": "code",
   "execution_count": 24,
   "metadata": {},
   "outputs": [
    {
     "data": {
      "text/html": [
       "<div>\n",
       "<style scoped>\n",
       "    .dataframe tbody tr th:only-of-type {\n",
       "        vertical-align: middle;\n",
       "    }\n",
       "\n",
       "    .dataframe tbody tr th {\n",
       "        vertical-align: top;\n",
       "    }\n",
       "\n",
       "    .dataframe thead th {\n",
       "        text-align: right;\n",
       "    }\n",
       "</style>\n",
       "<table border=\"1\" class=\"dataframe\">\n",
       "  <thead>\n",
       "    <tr style=\"text-align: right;\">\n",
       "      <th></th>\n",
       "      <th>sizes_2D</th>\n",
       "      <th>dt_mean_cpu_2D</th>\n",
       "      <th>dt_std_cpu_2D</th>\n",
       "    </tr>\n",
       "  </thead>\n",
       "  <tbody>\n",
       "    <tr>\n",
       "      <th>0</th>\n",
       "      <td>3</td>\n",
       "      <td>2.203490e+04</td>\n",
       "      <td>1.452645e+05</td>\n",
       "    </tr>\n",
       "    <tr>\n",
       "      <th>1</th>\n",
       "      <td>9</td>\n",
       "      <td>2.614130e+04</td>\n",
       "      <td>1.614062e+05</td>\n",
       "    </tr>\n",
       "    <tr>\n",
       "      <th>2</th>\n",
       "      <td>23</td>\n",
       "      <td>3.603550e+04</td>\n",
       "      <td>1.849578e+05</td>\n",
       "    </tr>\n",
       "    <tr>\n",
       "      <th>3</th>\n",
       "      <td>29</td>\n",
       "      <td>6.089260e+04</td>\n",
       "      <td>2.380407e+05</td>\n",
       "    </tr>\n",
       "    <tr>\n",
       "      <th>4</th>\n",
       "      <td>43</td>\n",
       "      <td>9.543320e+04</td>\n",
       "      <td>2.912768e+05</td>\n",
       "    </tr>\n",
       "    <tr>\n",
       "      <th>5</th>\n",
       "      <td>49</td>\n",
       "      <td>1.431950e+05</td>\n",
       "      <td>3.475960e+05</td>\n",
       "    </tr>\n",
       "    <tr>\n",
       "      <th>6</th>\n",
       "      <td>63</td>\n",
       "      <td>1.956496e+05</td>\n",
       "      <td>3.940339e+05</td>\n",
       "    </tr>\n",
       "    <tr>\n",
       "      <th>7</th>\n",
       "      <td>69</td>\n",
       "      <td>2.601250e+05</td>\n",
       "      <td>6.777674e+05</td>\n",
       "    </tr>\n",
       "    <tr>\n",
       "      <th>8</th>\n",
       "      <td>83</td>\n",
       "      <td>3.307710e+05</td>\n",
       "      <td>4.669230e+05</td>\n",
       "    </tr>\n",
       "    <tr>\n",
       "      <th>9</th>\n",
       "      <td>89</td>\n",
       "      <td>4.120542e+05</td>\n",
       "      <td>4.891433e+05</td>\n",
       "    </tr>\n",
       "    <tr>\n",
       "      <th>10</th>\n",
       "      <td>103</td>\n",
       "      <td>5.077446e+05</td>\n",
       "      <td>4.970194e+05</td>\n",
       "    </tr>\n",
       "    <tr>\n",
       "      <th>11</th>\n",
       "      <td>109</td>\n",
       "      <td>6.543464e+05</td>\n",
       "      <td>7.500610e+05</td>\n",
       "    </tr>\n",
       "    <tr>\n",
       "      <th>12</th>\n",
       "      <td>123</td>\n",
       "      <td>7.426904e+05</td>\n",
       "      <td>4.407939e+05</td>\n",
       "    </tr>\n",
       "    <tr>\n",
       "      <th>13</th>\n",
       "      <td>129</td>\n",
       "      <td>8.556144e+05</td>\n",
       "      <td>3.848074e+05</td>\n",
       "    </tr>\n",
       "    <tr>\n",
       "      <th>14</th>\n",
       "      <td>143</td>\n",
       "      <td>9.928392e+05</td>\n",
       "      <td>7.931770e+05</td>\n",
       "    </tr>\n",
       "    <tr>\n",
       "      <th>15</th>\n",
       "      <td>149</td>\n",
       "      <td>1.149161e+06</td>\n",
       "      <td>5.161198e+05</td>\n",
       "    </tr>\n",
       "    <tr>\n",
       "      <th>16</th>\n",
       "      <td>163</td>\n",
       "      <td>1.284151e+06</td>\n",
       "      <td>4.464073e+05</td>\n",
       "    </tr>\n",
       "    <tr>\n",
       "      <th>17</th>\n",
       "      <td>169</td>\n",
       "      <td>1.439742e+06</td>\n",
       "      <td>8.596971e+05</td>\n",
       "    </tr>\n",
       "    <tr>\n",
       "      <th>18</th>\n",
       "      <td>183</td>\n",
       "      <td>1.591966e+06</td>\n",
       "      <td>1.016360e+06</td>\n",
       "    </tr>\n",
       "    <tr>\n",
       "      <th>19</th>\n",
       "      <td>189</td>\n",
       "      <td>1.769917e+06</td>\n",
       "      <td>8.030299e+05</td>\n",
       "    </tr>\n",
       "    <tr>\n",
       "      <th>20</th>\n",
       "      <td>203</td>\n",
       "      <td>1.995683e+06</td>\n",
       "      <td>6.401357e+05</td>\n",
       "    </tr>\n",
       "    <tr>\n",
       "      <th>21</th>\n",
       "      <td>209</td>\n",
       "      <td>2.150177e+06</td>\n",
       "      <td>1.116489e+06</td>\n",
       "    </tr>\n",
       "    <tr>\n",
       "      <th>22</th>\n",
       "      <td>223</td>\n",
       "      <td>2.431316e+06</td>\n",
       "      <td>6.999949e+05</td>\n",
       "    </tr>\n",
       "    <tr>\n",
       "      <th>23</th>\n",
       "      <td>229</td>\n",
       "      <td>2.591823e+06</td>\n",
       "      <td>8.740727e+05</td>\n",
       "    </tr>\n",
       "    <tr>\n",
       "      <th>24</th>\n",
       "      <td>243</td>\n",
       "      <td>2.901216e+06</td>\n",
       "      <td>1.341440e+06</td>\n",
       "    </tr>\n",
       "    <tr>\n",
       "      <th>25</th>\n",
       "      <td>249</td>\n",
       "      <td>3.126296e+06</td>\n",
       "      <td>1.281566e+06</td>\n",
       "    </tr>\n",
       "    <tr>\n",
       "      <th>26</th>\n",
       "      <td>263</td>\n",
       "      <td>3.509631e+06</td>\n",
       "      <td>8.556195e+05</td>\n",
       "    </tr>\n",
       "    <tr>\n",
       "      <th>27</th>\n",
       "      <td>269</td>\n",
       "      <td>3.811406e+06</td>\n",
       "      <td>5.440138e+05</td>\n",
       "    </tr>\n",
       "    <tr>\n",
       "      <th>28</th>\n",
       "      <td>283</td>\n",
       "      <td>4.178136e+06</td>\n",
       "      <td>7.289473e+05</td>\n",
       "    </tr>\n",
       "    <tr>\n",
       "      <th>29</th>\n",
       "      <td>289</td>\n",
       "      <td>4.426058e+06</td>\n",
       "      <td>8.232864e+05</td>\n",
       "    </tr>\n",
       "    <tr>\n",
       "      <th>30</th>\n",
       "      <td>303</td>\n",
       "      <td>4.719636e+06</td>\n",
       "      <td>1.192609e+06</td>\n",
       "    </tr>\n",
       "    <tr>\n",
       "      <th>31</th>\n",
       "      <td>309</td>\n",
       "      <td>5.049332e+06</td>\n",
       "      <td>9.388481e+05</td>\n",
       "    </tr>\n",
       "    <tr>\n",
       "      <th>32</th>\n",
       "      <td>323</td>\n",
       "      <td>5.369390e+06</td>\n",
       "      <td>6.004946e+06</td>\n",
       "    </tr>\n",
       "    <tr>\n",
       "      <th>33</th>\n",
       "      <td>329</td>\n",
       "      <td>5.670530e+06</td>\n",
       "      <td>6.955130e+06</td>\n",
       "    </tr>\n",
       "    <tr>\n",
       "      <th>34</th>\n",
       "      <td>343</td>\n",
       "      <td>6.047012e+06</td>\n",
       "      <td>7.162692e+06</td>\n",
       "    </tr>\n",
       "    <tr>\n",
       "      <th>35</th>\n",
       "      <td>349</td>\n",
       "      <td>6.367929e+06</td>\n",
       "      <td>7.541619e+06</td>\n",
       "    </tr>\n",
       "    <tr>\n",
       "      <th>36</th>\n",
       "      <td>363</td>\n",
       "      <td>6.670220e+06</td>\n",
       "      <td>7.282899e+06</td>\n",
       "    </tr>\n",
       "    <tr>\n",
       "      <th>37</th>\n",
       "      <td>369</td>\n",
       "      <td>7.917906e+06</td>\n",
       "      <td>7.466466e+06</td>\n",
       "    </tr>\n",
       "    <tr>\n",
       "      <th>38</th>\n",
       "      <td>383</td>\n",
       "      <td>8.235264e+06</td>\n",
       "      <td>7.475980e+06</td>\n",
       "    </tr>\n",
       "    <tr>\n",
       "      <th>39</th>\n",
       "      <td>389</td>\n",
       "      <td>8.886262e+06</td>\n",
       "      <td>6.869978e+06</td>\n",
       "    </tr>\n",
       "    <tr>\n",
       "      <th>40</th>\n",
       "      <td>403</td>\n",
       "      <td>9.588228e+06</td>\n",
       "      <td>6.887608e+06</td>\n",
       "    </tr>\n",
       "    <tr>\n",
       "      <th>41</th>\n",
       "      <td>409</td>\n",
       "      <td>9.913456e+06</td>\n",
       "      <td>6.935805e+06</td>\n",
       "    </tr>\n",
       "    <tr>\n",
       "      <th>42</th>\n",
       "      <td>423</td>\n",
       "      <td>1.140491e+07</td>\n",
       "      <td>6.615814e+06</td>\n",
       "    </tr>\n",
       "    <tr>\n",
       "      <th>43</th>\n",
       "      <td>429</td>\n",
       "      <td>1.292527e+07</td>\n",
       "      <td>5.753526e+06</td>\n",
       "    </tr>\n",
       "    <tr>\n",
       "      <th>44</th>\n",
       "      <td>443</td>\n",
       "      <td>1.155258e+07</td>\n",
       "      <td>1.015437e+06</td>\n",
       "    </tr>\n",
       "    <tr>\n",
       "      <th>45</th>\n",
       "      <td>449</td>\n",
       "      <td>1.187015e+07</td>\n",
       "      <td>7.468513e+05</td>\n",
       "    </tr>\n",
       "    <tr>\n",
       "      <th>46</th>\n",
       "      <td>463</td>\n",
       "      <td>1.244972e+07</td>\n",
       "      <td>9.038309e+05</td>\n",
       "    </tr>\n",
       "    <tr>\n",
       "      <th>47</th>\n",
       "      <td>469</td>\n",
       "      <td>1.291856e+07</td>\n",
       "      <td>1.198134e+06</td>\n",
       "    </tr>\n",
       "    <tr>\n",
       "      <th>48</th>\n",
       "      <td>483</td>\n",
       "      <td>1.342288e+07</td>\n",
       "      <td>1.572781e+06</td>\n",
       "    </tr>\n",
       "    <tr>\n",
       "      <th>49</th>\n",
       "      <td>489</td>\n",
       "      <td>1.400312e+07</td>\n",
       "      <td>1.076157e+06</td>\n",
       "    </tr>\n",
       "    <tr>\n",
       "      <th>50</th>\n",
       "      <td>503</td>\n",
       "      <td>1.468535e+07</td>\n",
       "      <td>9.526599e+05</td>\n",
       "    </tr>\n",
       "  </tbody>\n",
       "</table>\n",
       "</div>"
      ],
      "text/plain": [
       "    sizes_2D  dt_mean_cpu_2D  dt_std_cpu_2D\n",
       "0          3    2.203490e+04   1.452645e+05\n",
       "1          9    2.614130e+04   1.614062e+05\n",
       "2         23    3.603550e+04   1.849578e+05\n",
       "3         29    6.089260e+04   2.380407e+05\n",
       "4         43    9.543320e+04   2.912768e+05\n",
       "5         49    1.431950e+05   3.475960e+05\n",
       "6         63    1.956496e+05   3.940339e+05\n",
       "7         69    2.601250e+05   6.777674e+05\n",
       "8         83    3.307710e+05   4.669230e+05\n",
       "9         89    4.120542e+05   4.891433e+05\n",
       "10       103    5.077446e+05   4.970194e+05\n",
       "11       109    6.543464e+05   7.500610e+05\n",
       "12       123    7.426904e+05   4.407939e+05\n",
       "13       129    8.556144e+05   3.848074e+05\n",
       "14       143    9.928392e+05   7.931770e+05\n",
       "15       149    1.149161e+06   5.161198e+05\n",
       "16       163    1.284151e+06   4.464073e+05\n",
       "17       169    1.439742e+06   8.596971e+05\n",
       "18       183    1.591966e+06   1.016360e+06\n",
       "19       189    1.769917e+06   8.030299e+05\n",
       "20       203    1.995683e+06   6.401357e+05\n",
       "21       209    2.150177e+06   1.116489e+06\n",
       "22       223    2.431316e+06   6.999949e+05\n",
       "23       229    2.591823e+06   8.740727e+05\n",
       "24       243    2.901216e+06   1.341440e+06\n",
       "25       249    3.126296e+06   1.281566e+06\n",
       "26       263    3.509631e+06   8.556195e+05\n",
       "27       269    3.811406e+06   5.440138e+05\n",
       "28       283    4.178136e+06   7.289473e+05\n",
       "29       289    4.426058e+06   8.232864e+05\n",
       "30       303    4.719636e+06   1.192609e+06\n",
       "31       309    5.049332e+06   9.388481e+05\n",
       "32       323    5.369390e+06   6.004946e+06\n",
       "33       329    5.670530e+06   6.955130e+06\n",
       "34       343    6.047012e+06   7.162692e+06\n",
       "35       349    6.367929e+06   7.541619e+06\n",
       "36       363    6.670220e+06   7.282899e+06\n",
       "37       369    7.917906e+06   7.466466e+06\n",
       "38       383    8.235264e+06   7.475980e+06\n",
       "39       389    8.886262e+06   6.869978e+06\n",
       "40       403    9.588228e+06   6.887608e+06\n",
       "41       409    9.913456e+06   6.935805e+06\n",
       "42       423    1.140491e+07   6.615814e+06\n",
       "43       429    1.292527e+07   5.753526e+06\n",
       "44       443    1.155258e+07   1.015437e+06\n",
       "45       449    1.187015e+07   7.468513e+05\n",
       "46       463    1.244972e+07   9.038309e+05\n",
       "47       469    1.291856e+07   1.198134e+06\n",
       "48       483    1.342288e+07   1.572781e+06\n",
       "49       489    1.400312e+07   1.076157e+06\n",
       "50       503    1.468535e+07   9.526599e+05"
      ]
     },
     "execution_count": 24,
     "metadata": {},
     "output_type": "execute_result"
    }
   ],
   "source": [
    "dataframe2D"
   ]
  },
  {
   "cell_type": "code",
   "execution_count": 25,
   "metadata": {
    "colab": {
     "base_uri": "https://localhost:8080/",
     "height": 359
    },
    "id": "Le0p5TXZ0KoT",
    "outputId": "a08621b5-eff1-4a9b-bca3-8f067c94d441"
   },
   "outputs": [],
   "source": [
    "# dataframe2v3D"
   ]
  },
  {
   "cell_type": "code",
   "execution_count": 26,
   "metadata": {
    "id": "axd9Qrlu0MED"
   },
   "outputs": [],
   "source": [
    "x = [i for i in range(1, 1000, 100)]"
   ]
  },
  {
   "cell_type": "code",
   "execution_count": 27,
   "metadata": {
    "id": "kWB634UX0P3v"
   },
   "outputs": [],
   "source": [
    "import matplotlib.pyplot as plt"
   ]
  },
  {
   "cell_type": "code",
   "execution_count": null,
   "metadata": {},
   "outputs": [],
   "source": []
  },
  {
   "cell_type": "code",
   "execution_count": null,
   "metadata": {},
   "outputs": [],
   "source": []
  },
  {
   "cell_type": "code",
   "execution_count": 28,
   "metadata": {
    "colab": {
     "base_uri": "https://localhost:8080/",
     "height": 769
    },
    "id": "wbaWF7tn0R3h",
    "outputId": "629e0afa-9357-4e06-f4a7-e7826ba0264a"
   },
   "outputs": [],
   "source": [
    "# plt.figure(figsize=(13, 13))\n",
    "# plt.plot(x, dataframe['dt_mean_cpu_3D'], label = 'dt_mean_cpu_3D')\n",
    "# plt.plot(x, dataframe['dt_mean_gpu_3D'], label = 'dt_mean_gpu_3D')\n",
    "# plt.xlabel('Array_Size')\n",
    "# plt.ylabel('Time (seconds)')\n",
    "# plt.legend()\n",
    "# plt.show()"
   ]
  }
 ],
 "metadata": {
  "accelerator": "GPU",
  "colab": {
   "name": "python_dt.ipynb",
   "provenance": []
  },
  "kernelspec": {
   "display_name": "Python 3.9.5 64-bit",
   "language": "python",
   "name": "python3"
  },
  "language_info": {
   "codemirror_mode": {
    "name": "ipython",
    "version": 3
   },
   "file_extension": ".py",
   "mimetype": "text/x-python",
   "name": "python",
   "nbconvert_exporter": "python",
   "pygments_lexer": "ipython3",
   "version": "3.9.5"
  },
  "vscode": {
   "interpreter": {
    "hash": "7d9ef0e181354117f9ce70876735363e58fcc077c1120e406476deb8970979d3"
   }
  }
 },
 "nbformat": 4,
 "nbformat_minor": 1
}

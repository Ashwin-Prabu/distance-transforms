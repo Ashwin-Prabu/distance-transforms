{
 "cells": [
  {
   "cell_type": "markdown",
   "metadata": {
    "id": "NMGznkMpqism"
   },
   "source": [
    "### Import Packages\n"
   ]
  },
  {
   "cell_type": "code",
   "execution_count": 100,
   "metadata": {
    "id": "gQXi0jGsqOHn"
   },
   "outputs": [],
   "source": [
    "import torch\n",
    "import numpy as np\n",
    "import time\n",
    "from scipy.ndimage import distance_transform_edt as distance\n",
    "from scipy.ndimage import _nd_image\n",
    "from datetime import datetime"
   ]
  },
  {
   "cell_type": "code",
   "execution_count": 101,
   "metadata": {
    "colab": {
     "base_uri": "https://localhost:8080/"
    },
    "id": "M3jq1u3SqmqC",
    "outputId": "0e3cb19d-0bb1-4327-be61-9a71586f79b4"
   },
   "outputs": [
    {
     "name": "stdout",
     "output_type": "stream",
     "text": [
      "cuda:0\n"
     ]
    }
   ],
   "source": [
    "device = torch.device(\"cuda:0\")\n",
    "print(device)"
   ]
  },
  {
   "cell_type": "markdown",
   "metadata": {
    "id": "HZORCpWdqpdX"
   },
   "source": [
    "## Benchmarks"
   ]
  },
  {
   "cell_type": "code",
   "execution_count": 102,
   "metadata": {},
   "outputs": [],
   "source": [
    "num_range = range(1, 510, 10)"
   ]
  },
  {
   "cell_type": "code",
   "execution_count": 103,
   "metadata": {
    "id": "7t4PRC4yqt5a"
   },
   "outputs": [],
   "source": [
    "# 2D\n",
    "sizes_2D = []\n",
    "dt_2D_min = []\n",
    "dt_2D_std = []\n",
    "\t\n",
    "dt_2D_GPU_min = []\n",
    "dt_2D_GPU_std = []\n",
    "\n",
    "dt_2D_times = []\n",
    "dt_2D_GPU_times = []"
   ]
  },
  {
   "cell_type": "code",
   "execution_count": 104,
   "metadata": {},
   "outputs": [],
   "source": [
    "# 2D on 3D image\n",
    "dt_2v3D_min = []\n",
    "dt_2v3D_std = []\n",
    "\t\n",
    "dt_2v3D_GPU_min = []\n",
    "dt_2v3D_GPU_std = []\n",
    "\n",
    "dt_2v3D_times = []\n",
    "dt_2v3D_GPU_times = []"
   ]
  },
  {
   "cell_type": "code",
   "execution_count": 105,
   "metadata": {},
   "outputs": [],
   "source": [
    "#3D\n",
    "sizes_3D = []\n",
    "dt_3D_min = []\n",
    "dt_3D_std = []\n",
    "\t\n",
    "dt_3D_GPU_min = []\n",
    "dt_3D_GPU_std = []\n",
    "\n",
    "dt_3D_times = []\n",
    "dt_3D_GPU_times = []"
   ]
  },
  {
   "cell_type": "code",
   "execution_count": 106,
   "metadata": {},
   "outputs": [],
   "source": [
    "test_cases_2D = []\n",
    "\n",
    "for n in num_range:\n",
    "    _size = n**2\n",
    "    sizes_2D.append(_size)\n",
    "    test_cases_2D.append(torch.randint(0,2,(n,n)))"
   ]
  },
  {
   "cell_type": "code",
   "execution_count": 107,
   "metadata": {},
   "outputs": [],
   "source": [
    "test_cases_3D = []\n",
    "\n",
    "for n in num_range:\n",
    "    _size = n**3\n",
    "    sizes_3D.append(_size)\n",
    "    test_cases_3D.append(torch.randint(0,2,(n,n,n)))"
   ]
  },
  {
   "cell_type": "code",
   "execution_count": 108,
   "metadata": {
    "id": "uarwNS8iqxi6"
   },
   "outputs": [
    {
     "name": "stdout",
     "output_type": "stream",
     "text": [
      "Size:  1\n",
      "Size:  11\n",
      "Size:  21\n",
      "Size:  31\n",
      "Size:  41\n",
      "Size:  51\n",
      "Size:  61\n",
      "Size:  71\n",
      "Size:  81\n",
      "Size:  91\n",
      "Size:  101\n",
      "Size:  111\n",
      "Size:  121\n",
      "Size:  131\n",
      "Size:  141\n",
      "Size:  151\n",
      "Size:  161\n",
      "Size:  171\n",
      "Size:  181\n",
      "Size:  191\n",
      "Size:  201\n",
      "Size:  211\n",
      "Size:  221\n",
      "Size:  231\n",
      "Size:  241\n",
      "Size:  251\n",
      "Size:  261\n",
      "Size:  271\n",
      "Size:  281\n",
      "Size:  291\n",
      "Size:  301\n",
      "Size:  311\n",
      "Size:  321\n",
      "Size:  331\n",
      "Size:  341\n",
      "Size:  351\n",
      "Size:  361\n",
      "Size:  371\n",
      "Size:  381\n",
      "Size:  391\n",
      "Size:  401\n",
      "Size:  411\n",
      "Size:  421\n",
      "Size:  431\n",
      "Size:  441\n",
      "Size:  451\n",
      "Size:  461\n",
      "Size:  471\n",
      "Size:  481\n",
      "Size:  491\n",
      "Size:  501\n"
     ]
    }
   ],
   "source": [
    "#2D times\n",
    "for array in test_cases_2D:\n",
    "  # Euclidean Distance CPU\n",
    "  print(\"Size: \",  len(array))\n",
    "  a = []\n",
    "  for j in range(1000): #Evaluations\n",
    "    times1 = time.perf_counter_ns()\n",
    "    tfm1 = torch.from_numpy(distance(array))\n",
    "    times2 = time.perf_counter_ns()\n",
    "    a.append(times2-times1)\n",
    "    if sum(a) > (30*60*(10**9)):\n",
    "      break\n",
    "  dt_2D_times.append(a)\n",
    "\n",
    "\n",
    "# for n in range(2,210,10):\n",
    "#   # Euclidean Distance GPU\n",
    "#   temp_dt_GPU_time = []\n",
    "#   for i in range(100): #Samples\n",
    "#     b = []\n",
    "#     for j in range(10): #Evaluations\n",
    "#       x2 = torch.randint(0,2,(n,n)).to(device)\n",
    "#       times2 = time.time()\n",
    "#       tfm2 = torch.from_numpy(distance(x2.cpu().numpy())).to(device)  \n",
    "#       b.append(time.time()-times2)\n",
    "#     temp_dt_GPU_time.append(torch.min(torch.FloatTensor(b)))\n",
    "#   dt_2D_GPU_times.append(temp_dt_GPU_time)\n"
   ]
  },
  {
   "cell_type": "code",
   "execution_count": 109,
   "metadata": {},
   "outputs": [
    {
     "name": "stdout",
     "output_type": "stream",
     "text": [
      "Size:  1\n",
      "Size:  11\n",
      "Size:  21\n",
      "Size:  31\n",
      "Size:  41\n",
      "Size:  51\n",
      "Size:  61\n",
      "Size:  71\n",
      "Size:  81\n",
      "Size:  91\n",
      "Size:  101\n",
      "Size:  111\n",
      "Size:  121\n",
      "Size:  131\n",
      "Size:  141\n",
      "Size:  151\n",
      "Size:  161\n",
      "Size:  171\n",
      "Size:  181\n",
      "Size:  191\n",
      "Size:  201\n",
      "Size:  211\n",
      "Size:  221\n",
      "Size:  231\n",
      "Size:  241\n",
      "Size:  251\n",
      "Size:  261\n",
      "Size:  271\n",
      "Size:  281\n",
      "Size:  291\n",
      "Size:  301\n",
      "Size:  311\n",
      "Size:  321\n",
      "Size:  331\n",
      "Size:  341\n",
      "Size:  351\n",
      "Size:  361\n",
      "Size:  371\n",
      "Size:  381\n",
      "Size:  391\n",
      "Size:  401\n",
      "Size:  411\n",
      "Size:  421\n",
      "Size:  431\n",
      "Size:  441\n",
      "Size:  451\n",
      "Size:  461\n",
      "Size:  471\n",
      "Size:  481\n",
      "Size:  491\n",
      "Size:  501\n"
     ]
    }
   ],
   "source": [
    "#3D times\n",
    "for array in test_cases_3D:\n",
    "  # Euclidean Distance CPU\n",
    "  print(\"Size: \",  len(array))\n",
    "  a = []\n",
    "  for j in range(1000): #Evaluations\n",
    "    times1 = time.perf_counter_ns()\n",
    "    tfm1 = torch.from_numpy(distance(array))\n",
    "    times2 = time.perf_counter_ns()\n",
    "    a.append(times2-times1)\n",
    "    if sum(a) > (20*60*(10**9)):\n",
    "      break\n",
    "  dt_3D_times.append(a)\n",
    "\n",
    "\n",
    "# for n in range(2,210,100):\n",
    "#   # Euclidean Distance GPU\n",
    "#   temp_dt_GPU_time = []\n",
    "#   for i in range(100): #Samples\n",
    "#     b = []\n",
    "#     for j in range(10): #Evaluations\n",
    "#       x2 = torch.randint(0,2,(n,n,n)).to(device)\n",
    "#       times2 = time.time()\n",
    "#       tfm2 = torch.from_numpy(distance(x2.cpu().numpy())).to(device)  \n",
    "#       b.append(time.time()-times2)\n",
    "#     temp_dt_GPU_time.append(torch.min(torch.FloatTensor(b)))\n",
    "#   dt_3D_GPU_times.append(temp_dt_GPU_time)\n"
   ]
  },
  {
   "cell_type": "code",
   "execution_count": 110,
   "metadata": {
    "id": "byFKe1nlzFA8"
   },
   "outputs": [],
   "source": [
    "#2D mins\n",
    "for i in dt_2D_times:\n",
    "  dt_2D_min.append(torch.min(torch.FloatTensor(i)).numpy().tolist())\n",
    "  dt_2D_std.append(torch.std(torch.FloatTensor(i), unbiased = False).numpy().tolist())"
   ]
  },
  {
   "cell_type": "code",
   "execution_count": 111,
   "metadata": {},
   "outputs": [],
   "source": [
    "# #2D mins on 3D image\n",
    "# for i in dt_2v3D_times:\n",
    "#   dt_2v3D_min.append(torch.min(torch.FloatTensor(i)).numpy().tolist())\n",
    "#   dt_2v3D_std.append(torch.std(torch.FloatTensor(i), unbiased = False).numpy().tolist())"
   ]
  },
  {
   "cell_type": "code",
   "execution_count": 112,
   "metadata": {},
   "outputs": [],
   "source": [
    "#3D mins\n",
    "for i in dt_3D_times:\n",
    "  dt_3D_min.append(torch.min(torch.FloatTensor(i)).numpy().tolist())\n",
    "  dt_3D_std.append(torch.std(torch.FloatTensor(i), unbiased = False).numpy().tolist())"
   ]
  },
  {
   "cell_type": "code",
   "execution_count": 113,
   "metadata": {
    "id": "J874jT4SzFDo"
   },
   "outputs": [],
   "source": [
    "# #2D mins GPU\n",
    "# for i in dt_2D_GPU_times:\n",
    "#   dt_2D_GPU_min.append(torch.min(torch.FloatTensor(i)).numpy().tolist())\n",
    "#   dt_2D_GPU_std.append(torch.std(torch.FloatTensor(i), unbiased = False).numpy().tolist())"
   ]
  },
  {
   "cell_type": "code",
   "execution_count": 114,
   "metadata": {},
   "outputs": [],
   "source": [
    "# #2D mins 3D image GPU\n",
    "# for i in dt_2v3D_GPU_times:\n",
    "#   dt_2v3D_GPU_min.append(torch.min(torch.FloatTensor(i)).numpy().tolist())\n",
    "#   dt_2v3D_GPU_std.append(torch.std(torch.FloatTensor(i), unbiased = False).numpy().tolist())"
   ]
  },
  {
   "cell_type": "code",
   "execution_count": 115,
   "metadata": {},
   "outputs": [],
   "source": [
    "# #3D mins GPU\n",
    "# for i in dt_3D_GPU_times:\n",
    "#   dt_3D_GPU_min.append(torch.min(torch.FloatTensor(i)).numpy().tolist())\n",
    "#   dt_3D_GPU_std.append(torch.std(torch.FloatTensor(i), unbiased = False).numpy().tolist())"
   ]
  },
  {
   "cell_type": "markdown",
   "metadata": {
    "id": "gQJJzWlFzhIv"
   },
   "source": [
    "## Save"
   ]
  },
  {
   "cell_type": "code",
   "execution_count": 116,
   "metadata": {
    "id": "dEMka94uzfmf"
   },
   "outputs": [],
   "source": [
    "import pandas as pd"
   ]
  },
  {
   "cell_type": "code",
   "execution_count": 117,
   "metadata": {
    "id": "MgHczlpwzgmp"
   },
   "outputs": [],
   "source": [
    "dt_2D_min = np.array(dt_2D_min)\n",
    "\n",
    "dt_2D_std = np.array(dt_2D_std)\n",
    "\n",
    "# dt_2v3D_min = np.array(dt_2v3D_min)\n",
    "# dt_2v3D_GPU_min = np.array(dt_2v3D_GPU_min)\n",
    "# dt_2v3D_std = np.array(dt_2v3D_std)\n",
    "# dt_2v3D_GPU_std = np.array(dt_2v3D_GPU_std)\n",
    "dt_3D_min = np.array(dt_3D_min)\n",
    "\n",
    "dt_3D_std = np.array(dt_3D_std)\n"
   ]
  },
  {
   "cell_type": "code",
   "execution_count": 118,
   "metadata": {
    "id": "cOga857Hz0W4"
   },
   "outputs": [],
   "source": [
    "data2D = {'sizes_2D': sizes_2D, 'dt_min_cpu_2D': dt_2D_min, 'dt_std_cpu_2D': dt_2D_std}\n",
    "\n",
    "\n",
    "# data2D = {'dt_min_cpu_2D': dt_2D_min, 'dt_std_cpu_2D': dt_2D_std, 'dt_min_2D': dt_2D_GPU_min, 'dt_std_gpu_2D': dt_2D_GPU_std\n",
    "#  }"
   ]
  },
  {
   "cell_type": "code",
   "execution_count": 119,
   "metadata": {},
   "outputs": [],
   "source": [
    "data3D = {'sizes_3D': sizes_3D, 'dt_min_cpu_3D': dt_3D_min, 'dt_std_cpu_3D': dt_3D_std}"
   ]
  },
  {
   "cell_type": "code",
   "execution_count": 120,
   "metadata": {
    "id": "gGycv12z0EgE"
   },
   "outputs": [],
   "source": [
    "dataframe2D = pd.DataFrame(data2D)\n",
    "dataframe3D = pd.DataFrame(data3D)"
   ]
  },
  {
   "cell_type": "code",
   "execution_count": 121,
   "metadata": {
    "id": "PnZwI5im0F8K"
   },
   "outputs": [],
   "source": [
    "dataframe2D.to_csv(\"C:/Users/wenbl13/Desktop/Ashwin-Timing/distance-transforms/purePython_DT_2D_Dec29.csv\")\n",
    "dataframe3D.to_csv(\"C:/Users/wenbl13/Desktop/Ashwin-Timing/distance-transforms/purePython_DT_3D_Dec29.csv\")"
   ]
  },
  {
   "cell_type": "code",
   "execution_count": 122,
   "metadata": {},
   "outputs": [
    {
     "data": {
      "text/html": [
       "<div>\n",
       "<style scoped>\n",
       "    .dataframe tbody tr th:only-of-type {\n",
       "        vertical-align: middle;\n",
       "    }\n",
       "\n",
       "    .dataframe tbody tr th {\n",
       "        vertical-align: top;\n",
       "    }\n",
       "\n",
       "    .dataframe thead th {\n",
       "        text-align: right;\n",
       "    }\n",
       "</style>\n",
       "<table border=\"1\" class=\"dataframe\">\n",
       "  <thead>\n",
       "    <tr style=\"text-align: right;\">\n",
       "      <th></th>\n",
       "      <th>sizes_2D</th>\n",
       "      <th>dt_min_cpu_2D</th>\n",
       "      <th>dt_std_cpu_2D</th>\n",
       "    </tr>\n",
       "  </thead>\n",
       "  <tbody>\n",
       "    <tr>\n",
       "      <th>0</th>\n",
       "      <td>1</td>\n",
       "      <td>15600.0</td>\n",
       "      <td>2.823802e+04</td>\n",
       "    </tr>\n",
       "    <tr>\n",
       "      <th>1</th>\n",
       "      <td>121</td>\n",
       "      <td>20700.0</td>\n",
       "      <td>1.041280e+04</td>\n",
       "    </tr>\n",
       "    <tr>\n",
       "      <th>2</th>\n",
       "      <td>441</td>\n",
       "      <td>34000.0</td>\n",
       "      <td>2.647256e+03</td>\n",
       "    </tr>\n",
       "    <tr>\n",
       "      <th>3</th>\n",
       "      <td>961</td>\n",
       "      <td>51500.0</td>\n",
       "      <td>4.399963e+03</td>\n",
       "    </tr>\n",
       "    <tr>\n",
       "      <th>4</th>\n",
       "      <td>1681</td>\n",
       "      <td>80600.0</td>\n",
       "      <td>3.673732e+04</td>\n",
       "    </tr>\n",
       "    <tr>\n",
       "      <th>5</th>\n",
       "      <td>2601</td>\n",
       "      <td>123500.0</td>\n",
       "      <td>3.948774e+04</td>\n",
       "    </tr>\n",
       "    <tr>\n",
       "      <th>6</th>\n",
       "      <td>3721</td>\n",
       "      <td>170900.0</td>\n",
       "      <td>3.649529e+04</td>\n",
       "    </tr>\n",
       "    <tr>\n",
       "      <th>7</th>\n",
       "      <td>5041</td>\n",
       "      <td>236300.0</td>\n",
       "      <td>4.824901e+04</td>\n",
       "    </tr>\n",
       "    <tr>\n",
       "      <th>8</th>\n",
       "      <td>6561</td>\n",
       "      <td>301500.0</td>\n",
       "      <td>4.572193e+04</td>\n",
       "    </tr>\n",
       "    <tr>\n",
       "      <th>9</th>\n",
       "      <td>8281</td>\n",
       "      <td>370200.0</td>\n",
       "      <td>5.028262e+04</td>\n",
       "    </tr>\n",
       "    <tr>\n",
       "      <th>10</th>\n",
       "      <td>10201</td>\n",
       "      <td>467600.0</td>\n",
       "      <td>4.491459e+04</td>\n",
       "    </tr>\n",
       "    <tr>\n",
       "      <th>11</th>\n",
       "      <td>12321</td>\n",
       "      <td>552300.0</td>\n",
       "      <td>3.827850e+04</td>\n",
       "    </tr>\n",
       "    <tr>\n",
       "      <th>12</th>\n",
       "      <td>14641</td>\n",
       "      <td>677700.0</td>\n",
       "      <td>4.612273e+04</td>\n",
       "    </tr>\n",
       "    <tr>\n",
       "      <th>13</th>\n",
       "      <td>17161</td>\n",
       "      <td>785900.0</td>\n",
       "      <td>4.607639e+04</td>\n",
       "    </tr>\n",
       "    <tr>\n",
       "      <th>14</th>\n",
       "      <td>19881</td>\n",
       "      <td>896700.0</td>\n",
       "      <td>1.195839e+05</td>\n",
       "    </tr>\n",
       "    <tr>\n",
       "      <th>15</th>\n",
       "      <td>22801</td>\n",
       "      <td>1026300.0</td>\n",
       "      <td>1.186254e+05</td>\n",
       "    </tr>\n",
       "    <tr>\n",
       "      <th>16</th>\n",
       "      <td>25921</td>\n",
       "      <td>1156800.0</td>\n",
       "      <td>1.455528e+05</td>\n",
       "    </tr>\n",
       "    <tr>\n",
       "      <th>17</th>\n",
       "      <td>29241</td>\n",
       "      <td>1328200.0</td>\n",
       "      <td>1.353633e+05</td>\n",
       "    </tr>\n",
       "    <tr>\n",
       "      <th>18</th>\n",
       "      <td>32761</td>\n",
       "      <td>1467100.0</td>\n",
       "      <td>1.958816e+05</td>\n",
       "    </tr>\n",
       "    <tr>\n",
       "      <th>19</th>\n",
       "      <td>36481</td>\n",
       "      <td>1647000.0</td>\n",
       "      <td>1.939873e+05</td>\n",
       "    </tr>\n",
       "    <tr>\n",
       "      <th>20</th>\n",
       "      <td>40401</td>\n",
       "      <td>1869100.0</td>\n",
       "      <td>1.871783e+05</td>\n",
       "    </tr>\n",
       "    <tr>\n",
       "      <th>21</th>\n",
       "      <td>44521</td>\n",
       "      <td>2054400.0</td>\n",
       "      <td>1.592806e+05</td>\n",
       "    </tr>\n",
       "    <tr>\n",
       "      <th>22</th>\n",
       "      <td>48841</td>\n",
       "      <td>2268700.0</td>\n",
       "      <td>1.685253e+05</td>\n",
       "    </tr>\n",
       "    <tr>\n",
       "      <th>23</th>\n",
       "      <td>53361</td>\n",
       "      <td>2413800.0</td>\n",
       "      <td>1.888585e+05</td>\n",
       "    </tr>\n",
       "    <tr>\n",
       "      <th>24</th>\n",
       "      <td>58081</td>\n",
       "      <td>2596000.0</td>\n",
       "      <td>2.108013e+05</td>\n",
       "    </tr>\n",
       "    <tr>\n",
       "      <th>25</th>\n",
       "      <td>63001</td>\n",
       "      <td>2811700.0</td>\n",
       "      <td>2.145027e+05</td>\n",
       "    </tr>\n",
       "    <tr>\n",
       "      <th>26</th>\n",
       "      <td>68121</td>\n",
       "      <td>3225400.0</td>\n",
       "      <td>3.269286e+05</td>\n",
       "    </tr>\n",
       "    <tr>\n",
       "      <th>27</th>\n",
       "      <td>73441</td>\n",
       "      <td>3484700.0</td>\n",
       "      <td>2.947129e+05</td>\n",
       "    </tr>\n",
       "    <tr>\n",
       "      <th>28</th>\n",
       "      <td>78961</td>\n",
       "      <td>3771600.0</td>\n",
       "      <td>3.609810e+05</td>\n",
       "    </tr>\n",
       "    <tr>\n",
       "      <th>29</th>\n",
       "      <td>84681</td>\n",
       "      <td>4198600.0</td>\n",
       "      <td>2.958705e+05</td>\n",
       "    </tr>\n",
       "    <tr>\n",
       "      <th>30</th>\n",
       "      <td>90601</td>\n",
       "      <td>4561500.0</td>\n",
       "      <td>2.954867e+05</td>\n",
       "    </tr>\n",
       "    <tr>\n",
       "      <th>31</th>\n",
       "      <td>96721</td>\n",
       "      <td>4566600.0</td>\n",
       "      <td>3.837638e+05</td>\n",
       "    </tr>\n",
       "    <tr>\n",
       "      <th>32</th>\n",
       "      <td>103041</td>\n",
       "      <td>4834300.0</td>\n",
       "      <td>3.877587e+05</td>\n",
       "    </tr>\n",
       "    <tr>\n",
       "      <th>33</th>\n",
       "      <td>109561</td>\n",
       "      <td>5143300.0</td>\n",
       "      <td>3.425515e+05</td>\n",
       "    </tr>\n",
       "    <tr>\n",
       "      <th>34</th>\n",
       "      <td>116281</td>\n",
       "      <td>5973600.0</td>\n",
       "      <td>4.096478e+05</td>\n",
       "    </tr>\n",
       "    <tr>\n",
       "      <th>35</th>\n",
       "      <td>123201</td>\n",
       "      <td>6515600.0</td>\n",
       "      <td>4.030214e+05</td>\n",
       "    </tr>\n",
       "    <tr>\n",
       "      <th>36</th>\n",
       "      <td>130321</td>\n",
       "      <td>6341000.0</td>\n",
       "      <td>5.219972e+05</td>\n",
       "    </tr>\n",
       "    <tr>\n",
       "      <th>37</th>\n",
       "      <td>137641</td>\n",
       "      <td>7403800.0</td>\n",
       "      <td>4.941458e+05</td>\n",
       "    </tr>\n",
       "    <tr>\n",
       "      <th>38</th>\n",
       "      <td>145161</td>\n",
       "      <td>8122200.0</td>\n",
       "      <td>6.291394e+05</td>\n",
       "    </tr>\n",
       "    <tr>\n",
       "      <th>39</th>\n",
       "      <td>152881</td>\n",
       "      <td>8308300.0</td>\n",
       "      <td>6.379398e+05</td>\n",
       "    </tr>\n",
       "    <tr>\n",
       "      <th>40</th>\n",
       "      <td>160801</td>\n",
       "      <td>8717100.0</td>\n",
       "      <td>6.326702e+05</td>\n",
       "    </tr>\n",
       "    <tr>\n",
       "      <th>41</th>\n",
       "      <td>168921</td>\n",
       "      <td>9460200.0</td>\n",
       "      <td>6.205704e+05</td>\n",
       "    </tr>\n",
       "    <tr>\n",
       "      <th>42</th>\n",
       "      <td>177241</td>\n",
       "      <td>9776500.0</td>\n",
       "      <td>7.388066e+05</td>\n",
       "    </tr>\n",
       "    <tr>\n",
       "      <th>43</th>\n",
       "      <td>185761</td>\n",
       "      <td>10281600.0</td>\n",
       "      <td>6.589049e+05</td>\n",
       "    </tr>\n",
       "    <tr>\n",
       "      <th>44</th>\n",
       "      <td>194481</td>\n",
       "      <td>10589300.0</td>\n",
       "      <td>7.091101e+05</td>\n",
       "    </tr>\n",
       "    <tr>\n",
       "      <th>45</th>\n",
       "      <td>203401</td>\n",
       "      <td>11121600.0</td>\n",
       "      <td>6.509011e+05</td>\n",
       "    </tr>\n",
       "    <tr>\n",
       "      <th>46</th>\n",
       "      <td>212521</td>\n",
       "      <td>12044600.0</td>\n",
       "      <td>7.760178e+05</td>\n",
       "    </tr>\n",
       "    <tr>\n",
       "      <th>47</th>\n",
       "      <td>221841</td>\n",
       "      <td>12299000.0</td>\n",
       "      <td>7.659055e+05</td>\n",
       "    </tr>\n",
       "    <tr>\n",
       "      <th>48</th>\n",
       "      <td>231361</td>\n",
       "      <td>12808800.0</td>\n",
       "      <td>8.293855e+05</td>\n",
       "    </tr>\n",
       "    <tr>\n",
       "      <th>49</th>\n",
       "      <td>241081</td>\n",
       "      <td>13403600.0</td>\n",
       "      <td>2.212261e+06</td>\n",
       "    </tr>\n",
       "    <tr>\n",
       "      <th>50</th>\n",
       "      <td>251001</td>\n",
       "      <td>14678400.0</td>\n",
       "      <td>3.345153e+06</td>\n",
       "    </tr>\n",
       "  </tbody>\n",
       "</table>\n",
       "</div>"
      ],
      "text/plain": [
       "    sizes_2D  dt_min_cpu_2D  dt_std_cpu_2D\n",
       "0          1        15600.0   2.823802e+04\n",
       "1        121        20700.0   1.041280e+04\n",
       "2        441        34000.0   2.647256e+03\n",
       "3        961        51500.0   4.399963e+03\n",
       "4       1681        80600.0   3.673732e+04\n",
       "5       2601       123500.0   3.948774e+04\n",
       "6       3721       170900.0   3.649529e+04\n",
       "7       5041       236300.0   4.824901e+04\n",
       "8       6561       301500.0   4.572193e+04\n",
       "9       8281       370200.0   5.028262e+04\n",
       "10     10201       467600.0   4.491459e+04\n",
       "11     12321       552300.0   3.827850e+04\n",
       "12     14641       677700.0   4.612273e+04\n",
       "13     17161       785900.0   4.607639e+04\n",
       "14     19881       896700.0   1.195839e+05\n",
       "15     22801      1026300.0   1.186254e+05\n",
       "16     25921      1156800.0   1.455528e+05\n",
       "17     29241      1328200.0   1.353633e+05\n",
       "18     32761      1467100.0   1.958816e+05\n",
       "19     36481      1647000.0   1.939873e+05\n",
       "20     40401      1869100.0   1.871783e+05\n",
       "21     44521      2054400.0   1.592806e+05\n",
       "22     48841      2268700.0   1.685253e+05\n",
       "23     53361      2413800.0   1.888585e+05\n",
       "24     58081      2596000.0   2.108013e+05\n",
       "25     63001      2811700.0   2.145027e+05\n",
       "26     68121      3225400.0   3.269286e+05\n",
       "27     73441      3484700.0   2.947129e+05\n",
       "28     78961      3771600.0   3.609810e+05\n",
       "29     84681      4198600.0   2.958705e+05\n",
       "30     90601      4561500.0   2.954867e+05\n",
       "31     96721      4566600.0   3.837638e+05\n",
       "32    103041      4834300.0   3.877587e+05\n",
       "33    109561      5143300.0   3.425515e+05\n",
       "34    116281      5973600.0   4.096478e+05\n",
       "35    123201      6515600.0   4.030214e+05\n",
       "36    130321      6341000.0   5.219972e+05\n",
       "37    137641      7403800.0   4.941458e+05\n",
       "38    145161      8122200.0   6.291394e+05\n",
       "39    152881      8308300.0   6.379398e+05\n",
       "40    160801      8717100.0   6.326702e+05\n",
       "41    168921      9460200.0   6.205704e+05\n",
       "42    177241      9776500.0   7.388066e+05\n",
       "43    185761     10281600.0   6.589049e+05\n",
       "44    194481     10589300.0   7.091101e+05\n",
       "45    203401     11121600.0   6.509011e+05\n",
       "46    212521     12044600.0   7.760178e+05\n",
       "47    221841     12299000.0   7.659055e+05\n",
       "48    231361     12808800.0   8.293855e+05\n",
       "49    241081     13403600.0   2.212261e+06\n",
       "50    251001     14678400.0   3.345153e+06"
      ]
     },
     "execution_count": 122,
     "metadata": {},
     "output_type": "execute_result"
    }
   ],
   "source": [
    "dataframe2D"
   ]
  },
  {
   "cell_type": "code",
   "execution_count": 123,
   "metadata": {
    "colab": {
     "base_uri": "https://localhost:8080/",
     "height": 359
    },
    "id": "Le0p5TXZ0KoT",
    "outputId": "a08621b5-eff1-4a9b-bca3-8f067c94d441"
   },
   "outputs": [],
   "source": [
    "# dataframe2v3D"
   ]
  },
  {
   "cell_type": "code",
   "execution_count": 124,
   "metadata": {
    "id": "axd9Qrlu0MED"
   },
   "outputs": [],
   "source": [
    "x = [i for i in range(1, 1000, 100)]"
   ]
  },
  {
   "cell_type": "code",
   "execution_count": 125,
   "metadata": {
    "id": "kWB634UX0P3v"
   },
   "outputs": [],
   "source": [
    "import matplotlib.pyplot as plt"
   ]
  },
  {
   "cell_type": "code",
   "execution_count": null,
   "metadata": {},
   "outputs": [],
   "source": []
  },
  {
   "cell_type": "code",
   "execution_count": 126,
   "metadata": {
    "colab": {
     "base_uri": "https://localhost:8080/",
     "height": 769
    },
    "id": "wbaWF7tn0R3h",
    "outputId": "629e0afa-9357-4e06-f4a7-e7826ba0264a"
   },
   "outputs": [],
   "source": [
    "# plt.figure(figsize=(13, 13))\n",
    "# plt.plot(x, dataframe['dt_min_cpu_3D'], label = 'dt_min_cpu_3D')\n",
    "# plt.plot(x, dataframe['dt_min_gpu_3D'], label = 'dt_min_gpu_3D')\n",
    "# plt.xlabel('Array_Size')\n",
    "# plt.ylabel('Time (seconds)')\n",
    "# plt.legend()\n",
    "# plt.show()"
   ]
  }
 ],
 "metadata": {
  "accelerator": "GPU",
  "colab": {
   "name": "python_dt.ipynb",
   "provenance": []
  },
  "kernelspec": {
   "display_name": "Python 3.9.5 64-bit",
   "language": "python",
   "name": "python3"
  },
  "language_info": {
   "codemirror_mode": {
    "name": "ipython",
    "version": 3
   },
   "file_extension": ".py",
   "mimetype": "text/x-python",
   "name": "python",
   "nbconvert_exporter": "python",
   "pygments_lexer": "ipython3",
   "version": "3.9.5 (tags/v3.9.5:0a7dcbd, May  3 2021, 17:27:52) [MSC v.1928 64 bit (AMD64)]"
  },
  "vscode": {
   "interpreter": {
    "hash": "7d9ef0e181354117f9ce70876735363e58fcc077c1120e406476deb8970979d3"
   }
  }
 },
 "nbformat": 4,
 "nbformat_minor": 1
}

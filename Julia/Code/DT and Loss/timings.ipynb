{
 "cells": [
  {
   "cell_type": "code",
   "execution_count": 1,
   "metadata": {},
   "outputs": [
    {
     "name": "stderr",
     "output_type": "stream",
     "text": [
      "\u001b[32m\u001b[1m  Activating\u001b[22m\u001b[39m project at `c:\\Users\\wenbl13\\Desktop\\Ashwin-Timing\\distance-transforms`\n"
     ]
    }
   ],
   "source": [
    "begin\n",
    "\tusing Pkg\n",
    "\tPkg.activate(\".\")\n",
    "\t# Pkg.add(\"Revise\")\n",
    "\t# Pkg.add(\"PlutoUI\")\n",
    "\t# Pkg.add(\"BenchmarkTools\")\n",
    "\t# Pkg.add(\"CairoMakie\")\n",
    "\t# Pkg.add(\"DataFrames\")\n",
    "\t# Pkg.add(\"CSV\")\n",
    "\t# Pkg.add(\"CUDA\")\n",
    "\t# Pkg.add(\"FoldsThreads\")\n",
    "\t# Pkg.add(url = \"https://github.com/lwbhahahaha/Losers.jl\", rev = \"master\")\n",
    "\t# Pkg.add(url=\"https://github.com/Dale-Black/DistanceTransforms.jl\")\n",
    "end\n"
   ]
  },
  {
   "cell_type": "code",
   "execution_count": 2,
   "metadata": {},
   "outputs": [
    {
     "name": "stderr",
     "output_type": "stream",
     "text": [
      "WARNING: method definition for checkbounds at C:\\Users\\wenbl13\\.julia\\packages\\Interpolations\\y4lLj\\src\\Interpolations.jl:454 declares type variable N but does not use it.\n"
     ]
    },
    {
     "name": "stderr",
     "output_type": "stream",
     "text": [
      "WARNING: method definition for checkbounds at C:\\Users\\wenbl13\\.julia\\packages\\Interpolations\\y4lLj\\src\\Interpolations.jl:457 declares type variable N but does not use it.\n",
      "WARNING: method definition for GriddedInterpolation at C:\\Users\\wenbl13\\.julia\\packages\\Interpolations\\y4lLj\\src\\gridded\\gridded.jl:37 declares type variable pad but does not use it.\n",
      "WARNING: method definition for GriddedInterpolation at C:\\Users\\wenbl13\\.julia\\packages\\Interpolations\\y4lLj\\src\\gridded\\gridded.jl:60 declares type variable pad but does not use it.\n",
      "WARNING: method definition for interpolate! at C:\\Users\\wenbl13\\.julia\\packages\\Interpolations\\y4lLj\\src\\deprecations.jl:30 declares type variable TWeights but does not use it.\n"
     ]
    },
    {
     "name": "stderr",
     "output_type": "stream",
     "text": [
      "WARNING: method definition for #DataFrame#195 at C:\\Users\\wenbl13\\.julia\\packages\\DataFrames\\JZ7x5\\src\\dataframe\\dataframe.jl:398 declares type variable T but does not use it.\n"
     ]
    },
    {
     "name": "stderr",
     "output_type": "stream",
     "text": [
      "WARNING: method definition for col_ordering at C:\\Users\\wenbl13\\.julia\\packages\\DataFrames\\JZ7x5\\src\\abstractdataframe\\sort.jl:145 declares type variable O but does not use it.\n"
     ]
    },
    {
     "name": "stderr",
     "output_type": "stream",
     "text": [
      "WARNING: method definition for OneHotArray at C:\\Users\\wenbl13\\.julia\\packages\\MicroCollections\\yJPLe\\src\\onehot.jl:79 declares type variable N but does not use it.\n"
     ]
    },
    {
     "name": "stderr",
     "output_type": "stream",
     "text": [
      "\u001b[32m\u001b[1m  Activating\u001b[22m\u001b[39m project at `c:\\Users\\wenbl13\\Desktop\\Ashwin-Timing`\n"
     ]
    },
    {
     "name": "stderr",
     "output_type": "stream",
     "text": [
      "\u001b[32m\u001b[1m  Activating\u001b[22m\u001b[39m project at `c:\\Users\\wenbl13\\Desktop\\Ashwin-Timing`\n"
     ]
    },
    {
     "name": "stderr",
     "output_type": "stream",
     "text": [
      "\u001b[32m\u001b[1m  Activating\u001b[22m\u001b[39m project at `c:\\Users\\wenbl13\\Desktop\\Ashwin-Timing`\n"
     ]
    },
    {
     "name": "stderr",
     "output_type": "stream",
     "text": [
      "\u001b[32m\u001b[1m  Activating\u001b[22m\u001b[39m project at `c:\\Users\\wenbl13\\Desktop\\Ashwin-Timing`\n"
     ]
    },
    {
     "name": "stderr",
     "output_type": "stream",
     "text": [
      "\u001b[32m\u001b[1m  Activating\u001b[22m\u001b[39m project at `c:\\Users\\wenbl13\\Desktop\\Ashwin-Timing`\n"
     ]
    },
    {
     "name": "stderr",
     "output_type": "stream",
     "text": [
      "\u001b[32m\u001b[1m  Activating\u001b[22m\u001b[39m project at `c:\\Users\\wenbl13\\Desktop\\Ashwin-Timing`\n"
     ]
    },
    {
     "name": "stderr",
     "output_type": "stream",
     "text": [
      "\u001b[32m\u001b[1m  Activating\u001b[22m\u001b[39m project at `c:\\Users\\wenbl13\\Desktop\\Ashwin-Timing`\n"
     ]
    }
   ],
   "source": [
    "using Revise\n",
    "using PlutoUI\n",
    "using BenchmarkTools \n",
    "using CairoMakie\n",
    "using DataFrames\n",
    "using CSV\n",
    "using CUDA\n",
    "using FoldsThreads\n",
    "using DistanceTransforms\n",
    "using DistanceTransforms: transform, transform!\n",
    "using Losers"
   ]
  },
  {
   "cell_type": "code",
   "execution_count": 3,
   "metadata": {},
   "outputs": [
    {
     "name": "stdout",
     "output_type": "stream",
     "text": [
      "Julia cpu: 23914.666\n",
      "Julia cpu: 23914.666666666668\n"
     ]
    }
   ],
   "source": [
    "# y = [[1, 2 ,3 ,4 ,5 ,6 ,7 ,9, 10], [1, 2 ,3 ,4 ,5 ,6 ,7 ,9, 10], [1, 2 ,3 ,4 ,5 ,6 ,7 ,9, 10], [1, 2 ,3 ,4 ,5 ,6 ,7 ,9, 10], [1, 2 ,3 ,4 ,5 ,6 ,7 ,9, 10], [1, 2 ,3 ,4 ,5 ,6 ,7 ,9, 10], [1, 2 ,3 ,4 ,5 ,6 ,7 ,9, 10], [1, 2 ,3 ,4 ,5 ,6 ,7 ,9, 10], [1, 2 ,3 ,4 ,5 ,6 ,7 ,9, 10], [1, 2 ,3 ,4 ,5 ,6 ,7 ,9, 10]]\n",
    "# ŷ = [[5, 6, 7, 8, 9, 10, 11, 12, 13, 14],[5, 6, 7, 8, 9, 10, 11, 12, 13, 14], [5, 6, 7, 8, 9, 10, 11, 12, 13, 14], [5, 6, 7, 8, 9, 10, 11, 12, 13, 14], [5, 6, 7, 8, 9, 10, 11, 12, 13, 14], [5, 6, 7, 8, 9, 10, 11, 12, 13, 14], [5, 6, 7, 8, 9, 10, 11, 12, 13, 14], [5, 6, 7, 8, 9, 10, 11, 12, 13, 14], [5, 6, 7, 8, 9, 10, 11, 12, 13, 14], [5, 6, 7, 8, 9, 10, 11, 12, 13, 14]]\n",
    "# y_dtm = [[1, 2, 2, 1, 0, 6, 7, 9, 10, 11], [1, 2, 2, 1, 0, 6, 7, 9, 10, 11], [1, 2, 2, 1, 0, 6, 7, 9, 10, 11], [1, 2, 2, 1, 0, 6, 7, 9, 10, 11], [1, 2, 2, 1, 0, 6, 7, 9, 10, 11], [1, 2, 2, 1, 0, 6, 7, 9, 10, 11], [1, 2, 2, 1, 0, 6, 7, 9, 10, 11], [1, 2, 2, 1, 0, 6, 7, 9, 10, 11], [1, 2, 2, 1, 0, 6, 7, 9, 10, 11], [1, 2, 2, 1, 0, 6, 7, 9, 10, 11]]\n",
    "# ŷ_dtm = [[0, 1, 2, 3, 0, 6, 23, 4, 10, 100], [0, 1, 2, 3, 0, 6, 23, 4, 10, 100] ,[0, 1, 2, 3, 0, 6, 23, 4, 10, 100],[0, 1, 2, 3, 0, 6, 23, 4, 10, 100],[0, 1, 2, 3, 0, 6, 23, 4, 10, 100] ,[0, 1, 2, 3, 0, 6, 23, 4, 10, 100] ,[0, 1, 2, 3, 0, 6, 23, 4, 10, 100] , [0, 1, 2, 3, 0, 6, 23, 4, 10, 100], [0, 1, 2, 3, 0, 6, 23, 4, 10, 100], [0, 1, 2, 3, 0, 6, 23, 4, 10, 100]]\n",
    "\n",
    "y = Float32.([[0, 1, 0] [1,1,1] [1,0,0]])\n",
    "ŷ = Float32.([[0, 0, 0] [1, 0, 1] [1, 1, 0]])\n",
    "y_dtm = Float32.([[2, 65, 78] [4, 7, 3] [3, 6, 2]])\n",
    "ŷ_dtm = Float32.([[34, 31, 6] [21, 45, 78] [15, 456, 3]])\n",
    "\n",
    "y_GPU = CuArray(y)\n",
    "ŷ_GPU  = CuArray(ŷ)\n",
    "y_dtm_GPU  = CuArray(y_dtm)\n",
    "ŷ_dtm_GPU  = CuArray(ŷ_dtm)\n",
    "\n",
    "rslt_cpu = hausdorff(ŷ, y, ŷ_dtm, y_dtm)\n",
    "rslt_gpu = hausdorff(ŷ_GPU, y_GPU, ŷ_dtm_GPU, y_dtm_GPU)\n",
    "\n",
    "println(\"Julia cpu: $rslt_cpu\")\n",
    "println(\"Julia cpu: $rslt_gpu\")"
   ]
  },
  {
   "cell_type": "code",
   "execution_count": 4,
   "metadata": {},
   "outputs": [
    {
     "name": "stdout",
     "output_type": "stream",
     "text": [
      "GPU threads = 768.\n"
     ]
    },
    {
     "data": {
      "text/plain": [
       "16"
      ]
     },
     "metadata": {},
     "output_type": "display_data"
    }
   ],
   "source": [
    "current_dir = pwd()\n",
    "num_range = range(1, 510; length=51)\n",
    "if has_cuda_gpu()\n",
    "    ks = DistanceTransforms.get_GPU_kernels(Wenbo())\n",
    "end\n",
    "threads = Threads.nthreads()"
   ]
  },
  {
   "cell_type": "markdown",
   "metadata": {},
   "source": [
    "# Distance Transforms\n",
    "## 2D"
   ]
  },
  {
   "cell_type": "code",
   "execution_count": 5,
   "metadata": {},
   "outputs": [],
   "source": [
    "sizes_2D = []\n",
    "test_cases_2D = []\n",
    "for n in num_range\n",
    "\tn = Int(round(n))\n",
    "\t_size = n^2\n",
    "\tappend!(sizes_2D, _size)\n",
    "\tf = Bool.(rand([0, 1], n, n))\n",
    "\tpush!(test_cases_2D, f)\n",
    "end"
   ]
  },
  {
   "cell_type": "code",
   "execution_count": 6,
   "metadata": {},
   "outputs": [],
   "source": [
    "maurer_minimum_2D = []\n",
    "maurer_std_2D = []\n",
    "\n",
    "# felzenszwalb_minimum_2D = []\n",
    "# felzenszwalb_std_2D = []\n",
    "\n",
    "# felzenszwalb_inplace_minimum_2D = []\n",
    "# felzenszwalb_inplace_std_2D = []\n",
    "\n",
    "# felzenszwalb_threaded_minimum_2D = []\n",
    "# felzenszwalb_threaded_std_2D = []\n",
    "\n",
    "felzenszwalb_threaded_minimum_2D_depth = []\n",
    "felzenszwalb_threaded_std_2D_depth = []\n",
    "\n",
    "# felzenszwalb_threaded_minimum_2D_nonthread = []\n",
    "# felzenszwalb_threaded_std_2D_nonthread = []\n",
    "\n",
    "# felzenszwalb_threaded_minimum_2D_worksteal = []\n",
    "# felzenszwalb_threaded_std_2D_worksteal = []\n",
    "\n",
    "felzenszwalb_gpu_minimum_2D = []\n",
    "felzenszwalb_gpu_std_2D = []\n",
    "\n",
    "for f in test_cases_2D\n",
    "\t####--- Maurer (ImageMorphology) ---####\n",
    "\tmaurer = @benchmark transform($f, $Maurer())\n",
    "\tappend!(maurer_minimum_2D, BenchmarkTools.minimum(maurer).time)\n",
    "\tappend!(maurer_std_2D, BenchmarkTools.std(maurer).time)\n",
    "\t\n",
    "\t# ####--- Felzenszwalb ---####\n",
    "\ttfm = Felzenszwalb()\n",
    "\t# felzenszwalb = @benchmark transform($boolean_indicator($f), $tfm)\n",
    "\t# append!(felzenszwalb_minimum_2D, BenchmarkTools.minimum(felzenszwalb).time)\n",
    "\t# append!(felzenszwalb_std_2D, BenchmarkTools.std(felzenszwalb).time)\n",
    "\t\n",
    "\t# felzenszwalb = @benchmark transform!($boolean_indicator($f), $tfm)\n",
    "\t# append!(felzenszwalb_inplace_minimum_2D, BenchmarkTools.minimum(felzenszwalb).time)\n",
    "\t# append!(felzenszwalb_inplace_std_2D, BenchmarkTools.std(felzenszwalb).time)\n",
    "\t\n",
    "\t# felzenszwalb = @benchmark transform!($boolean_indicator($f), $tfm, $threads)\n",
    "\t# append!(felzenszwalb_threaded_minimum_2D, BenchmarkTools.minimum(felzenszwalb).time)\n",
    "\t# append!(felzenszwalb_threaded_std_2D, BenchmarkTools.std(felzenszwalb).time)\n",
    "\n",
    "\toutput, v, z = zeros(size(f)), ones(Int32, size(f)), ones(size(f) .+ 1)\n",
    "\tex = DepthFirstEx()\n",
    "\tfelzenszwalb = @benchmark transform!($boolean_indicator($f), $tfm, $ex; output=$output, v=$v, z=$z)\n",
    "\tappend!(felzenszwalb_threaded_minimum_2D_depth, BenchmarkTools.minimum(felzenszwalb).time)\n",
    "\tappend!(felzenszwalb_threaded_std_2D_depth, BenchmarkTools.std(felzenszwalb).time)\n",
    "\n",
    "\t# output, v, z = zeros(size(f)), ones(Int32, size(f)), ones(size(f) .+ 1)\n",
    "\t# ex = NonThreadedEx()\n",
    "\t# felzenszwalb = @benchmark transform!($boolean_indicator($f), $tfm, $ex; output=$output, v=$v, z=$z)\n",
    "\t# append!(felzenszwalb_threaded_minimum_2D_nonthread, BenchmarkTools.minimum(felzenszwalb).time)\n",
    "\t# append!(felzenszwalb_threaded_std_2D_nonthread, BenchmarkTools.std(felzenszwalb).time)\n",
    "\n",
    "\t# output, v, z = zeros(size(f)), ones(Int32, size(f)), ones(size(f) .+ 1)\n",
    "\t# ex = WorkStealingEx()\n",
    "\t# felzenszwalb = @benchmark transform!($boolean_indicator($f), $tfm, $ex; output=$output, v=$v, z=$z)\n",
    "\t# append!(felzenszwalb_threaded_minimum_2D_worksteal, BenchmarkTools.minimum(felzenszwalb).time)\n",
    "\t# append!(felzenszwalb_threaded_std_2D_worksteal, BenchmarkTools.std(felzenszwalb).time)\n",
    "\n",
    "\tif has_cuda_gpu()\n",
    "\t\toutput, v, z = CUDA.zeros(size(f)), CUDA.ones(Int32, size(f)), CUDA.ones(size(f) .+ 1)\n",
    "\t\tfelzenszwalb = @benchmark transform!($CuArray($boolean_indicator($f)), $tfm; output=$output, v=$v, z=$z)\n",
    "\t\tappend!(felzenszwalb_gpu_minimum_2D, BenchmarkTools.minimum(felzenszwalb).time)\n",
    "\t\tappend!(felzenszwalb_gpu_std_2D, BenchmarkTools.std(felzenszwalb).time)\n",
    "\tend\n",
    "end"
   ]
  },
  {
   "cell_type": "code",
   "execution_count": 7,
   "metadata": {},
   "outputs": [],
   "source": [
    "# wenbo_inplace_minimum_2D = []\n",
    "# wenbo_inplace_std_2D = []\n",
    "\n",
    "wenbo_threaded_minimum_2D = []\n",
    "wenbo_threaded_std_2D = []\n",
    "\n",
    "# wenbo_threaded_minimum_2D_depth = []\n",
    "# wenbo_threaded_std_2D_depth = []\n",
    "\n",
    "# wenbo_threaded_minimum_2D_nonthread = []\n",
    "# wenbo_threaded_std_2D_nonthread = []\n",
    "\n",
    "# wenbo_threaded_minimum_2D_worksteal = []\n",
    "# wenbo_threaded_std_2D_worksteal = []\n",
    "\n",
    "wenbo_gpu_minimum_2D = []\n",
    "wenbo_gpu_std_2D = []\n",
    "\n",
    "for f in test_cases_2D\n",
    "\t####--- Wenbo ---####\n",
    "\ttfm2 = Wenbo()\n",
    "\t# wenbo = @benchmark transform($f, $tfm2)\n",
    "\t# append!(wenbo_inplace_minimum_2D, BenchmarkTools.minimum(wenbo).time)\n",
    "\t# append!(wenbo_inplace_std_2D, BenchmarkTools.std(wenbo).time)\n",
    "\n",
    "\twenbo = @benchmark transform($f, $tfm2, $threads)\n",
    "\tappend!(wenbo_threaded_minimum_2D, BenchmarkTools.minimum(wenbo).time)\n",
    "\tappend!(wenbo_threaded_std_2D, BenchmarkTools.std(wenbo).time)\n",
    "\n",
    "\t# ex = DepthFirstEx()\n",
    "\t# wenbo = @benchmark transform($f, $tfm2, $ex)\n",
    "\t# append!(wenbo_threaded_minimum_2D_depth, BenchmarkTools.minimum(wenbo).time)\n",
    "\t# append!(wenbo_threaded_std_2D_depth, BenchmarkTools.std(wenbo).time)\n",
    "\n",
    "\t# ex = NonThreadedEx()\n",
    "\t# wenbo = @benchmark transform($f, $tfm2, $ex)\n",
    "\t# append!(wenbo_threaded_minimum_2D_nonthread, BenchmarkTools.minimum(wenbo).time)\n",
    "\t# append!(wenbo_threaded_std_2D_nonthread, BenchmarkTools.std(wenbo).time)\n",
    "\n",
    "\t# ex = WorkStealingEx()\n",
    "\t# wenbo = @benchmark transform($f, $tfm2, $ex)\n",
    "\t# append!(wenbo_threaded_minimum_2D_worksteal, BenchmarkTools.minimum(wenbo).time)\n",
    "\t# append!(wenbo_threaded_std_2D_worksteal, BenchmarkTools.std(wenbo).time)\n",
    "\n",
    "\tif has_cuda_gpu()\n",
    "\t\tf_cu = CuArray(f)\n",
    "\t\twenbo = @benchmark transform($f_cu, $tfm2, $ks)\n",
    "\t\tappend!(wenbo_gpu_minimum_2D, BenchmarkTools.minimum(wenbo).time)\n",
    "\t\tappend!(wenbo_gpu_std_2D, BenchmarkTools.std(wenbo).time)\n",
    "\tend\n",
    "end"
   ]
  },
  {
   "cell_type": "code",
   "execution_count": 8,
   "metadata": {},
   "outputs": [
    {
     "data": {
      "text/plain": [
       "\"c:\\\\Users\\\\wenbl13\\\\Desktop\\\\Ashwin-Timing\\\\distance-transforms/dt_2D_min.csv\""
      ]
     },
     "metadata": {},
     "output_type": "display_data"
    }
   ],
   "source": [
    "path = current_dir * \"/dt_2D_min.csv\"\n",
    "if has_cuda_gpu()\n",
    "\tdf = DataFrame(\n",
    "\t\tsizes_2D = Float64.(sizes_2D),\n",
    "\t\tmaurer_minimum_2D = Float64.(maurer_minimum_2D),\n",
    "\t\tmaurer_std_2D = Float64.(maurer_std_2D),\n",
    "\t\t# felzenszwalb_minimum_2D = Float64.(felzenszwalb_minimum_2D),\n",
    "\t\t# felzenszwalb_std_2D = Float64.(felzenszwalb_std_2D),\n",
    "\t\t# felzenszwalb_inplace_minimum_2D = Float64.(felzenszwalb_inplace_minimum_2D),\n",
    "\t\t# felzenszwalb_inplace_std_2D = Float64.(felzenszwalb_inplace_std_2D),\n",
    "\t\t# felzenszwalb_threaded_minimum_2D = Float64.(felzenszwalb_threaded_minimum_2D),\n",
    "\t\t# felzenszwalb_threaded_std_2D = Float64.(felzenszwalb_threaded_std_2D),\n",
    "\t\tfelzenszwalb_threaded_minimum_2D_depth = Float64.(felzenszwalb_threaded_minimum_2D_depth),\n",
    "\t\tfelzenszwalb_threaded_std_2D_depth = Float64.(felzenszwalb_threaded_std_2D_depth),\n",
    "\t\t# felzenszwalb_threaded_minimum_2D_nonthread = Float64.(felzenszwalb_threaded_minimum_2D_nonthread),\n",
    "\t\t# felzenszwalb_threaded_std_2D_nonthread = Float64.(felzenszwalb_threaded_std_2D_nonthread),\n",
    "\t\t# felzenszwalb_threaded_minimum_2D_worksteal = Float64.(felzenszwalb_threaded_minimum_2D_worksteal),\n",
    "\t\t# felzenszwalb_threaded_std_2D_worksteal = Float64.(felzenszwalb_threaded_std_2D_worksteal),\n",
    "\t\tfelzenszwalb_gpu_minimum_2D = Float64.(felzenszwalb_gpu_minimum_2D),\n",
    "\t\tfelzenszwalb_gpu_std_2D = Float64.(felzenszwalb_gpu_std_2D),\n",
    "\t\t# wenbo_inplace_minimum_2D = Float64.(wenbo_inplace_minimum_2D),\n",
    "\t\t# wenbo_inplace_std_2D = Float64.(wenbo_inplace_std_2D),\n",
    "\t\twenbo_threaded_minimum_2D = Float64.(wenbo_threaded_minimum_2D),\n",
    "\t\twenbo_threaded_std_2D = Float64.(wenbo_threaded_std_2D),\n",
    "\t\t# wenbo_threaded_minimum_2D_depth = Float64.(wenbo_threaded_minimum_2D_depth),\n",
    "\t\t# wenbo_threaded_std_2D_depth = Float64.(wenbo_threaded_std_2D_depth),\n",
    "\t\t# wenbo_threaded_minimum_2D_nonthread = Float64.(wenbo_threaded_minimum_2D_nonthread),\n",
    "\t\t# wenbo_threaded_std_2D_nonthread = Float64.(wenbo_threaded_std_2D_nonthread),\n",
    "\t\t# wenbo_threaded_minimum_2D_worksteal = Float64.(wenbo_threaded_minimum_2D_worksteal),\n",
    "\t\t# wenbo_threaded_std_2D_worksteal = Float64.(wenbo_threaded_std_2D_worksteal),\n",
    "\t\twenbo_gpu_minimum_2D = Float64.(wenbo_gpu_minimum_2D),\n",
    "\t\twenbo_gpu_std_2D = Float64.(wenbo_gpu_std_2D)\n",
    "\t)\n",
    "else\n",
    "\tdf = DataFrame(\n",
    "\t\tsizes_2D = Float64.(sizes_2D),\n",
    "\t\tmaurer_minimum_2D = Float64.(maurer_minimum_2D),\n",
    "\t\tmaurer_std_2D = Float64.(maurer_std_2D),\n",
    "\t\t# felzenszwalb_minimum_2D = Float64.(felzenszwalb_minimum_2D),\n",
    "\t\t# felzenszwalb_std_2D = Float64.(felzenszwalb_std_2D),\n",
    "\t\t# felzenszwalb_inplace_minimum_2D = Float64.(felzenszwalb_inplace_minimum_2D),\n",
    "\t\t# felzenszwalb_inplace_std_2D = Float64.(felzenszwalb_inplace_std_2D),\n",
    "\t\t# felzenszwalb_threaded_minimum_2D = Float64.(felzenszwalb_threaded_minimum_2D),\n",
    "\t\t# felzenszwalb_threaded_std_2D = Float64.(felzenszwalb_threaded_std_2D),\n",
    "\t\tfelzenszwalb_threaded_minimum_2D_depth = Float64.(felzenszwalb_threaded_minimum_2D_depth),\n",
    "\t\tfelzenszwalb_threaded_std_2D_depth = Float64.(felzenszwalb_threaded_std_2D_depth),\n",
    "\t\t# felzenszwalb_threaded_minimum_2D_nonthread = Float64.(felzenszwalb_threaded_minimum_2D_nonthread),\n",
    "\t\t# felzenszwalb_threaded_std_2D_nonthread = Float64.(felzenszwalb_threaded_std_2D_nonthread),\n",
    "\t\t# felzenszwalb_threaded_minimum_2D_worksteal = Float64.(felzenszwalb_threaded_minimum_2D_worksteal),\n",
    "\t\t# felzenszwalb_threaded_std_2D_worksteal = Float64.(felzenszwalb_threaded_std_2D_worksteal),\n",
    "\t\t# wenbo_inplace_minimum_2D = Float64.(wenbo_inplace_minimum_2D),\n",
    "\t\t# wenbo_inplace_std_2D = Float64.(wenbo_inplace_std_2D),\n",
    "\t\twenbo_threaded_minimum_2D = Float64.(wenbo_threaded_minimum_2D),\n",
    "\t\twenbo_threaded_std_2D = Float64.(wenbo_threaded_std_2D),\n",
    "\t\t# wenbo_threaded_minimum_2D_depth = Float64.(wenbo_threaded_minimum_2D_depth),\n",
    "\t\t# wenbo_threaded_std_2D_depth = Float64.(wenbo_threaded_std_2D_depth),\n",
    "\t\t# wenbo_threaded_minimum_2D_nonthread = Float64.(wenbo_threaded_minimum_2D_nonthread),\n",
    "\t\t# wenbo_threaded_std_2D_nonthread = Float64.(wenbo_threaded_std_2D_nonthread),\n",
    "\t\t# wenbo_threaded_minimum_2D_worksteal = Float64.(wenbo_threaded_minimum_2D_worksteal),\n",
    "\t\t# wenbo_threaded_std_2D_worksteal = Float64.(wenbo_threaded_std_2D_worksteal)\n",
    "\t)\n",
    "end\n",
    "CSV.write(path, df)"
   ]
  },
  {
   "cell_type": "markdown",
   "metadata": {},
   "source": [
    "## 3D"
   ]
  },
  {
   "cell_type": "code",
   "execution_count": 9,
   "metadata": {},
   "outputs": [],
   "source": [
    "sizes_3D = []\n",
    "test_cases_3D = []\n",
    "\n",
    "for n in num_range\n",
    "    n = Int(round(n))\n",
    "    _size = n^3\n",
    "    append!(sizes_3D, _size)\n",
    "    push!(test_cases_3D, Bool.(rand([0, 1], n, n, n)))\n",
    "end"
   ]
  },
  {
   "cell_type": "code",
   "execution_count": 10,
   "metadata": {},
   "outputs": [],
   "source": [
    "maurer_minimum_3D = []\n",
    "maurer_std_3D = []\n",
    "\n",
    "# felzenszwalb_minimum_3D = []\n",
    "# felzenszwalb_std_3D = []\n",
    "\n",
    "# felzenszwalb_inplace_minimum_3D = []\n",
    "# felzenszwalb_inplace_std_3D = []\n",
    "\n",
    "# felzenszwalb_threaded_minimum_3D = []\n",
    "# felzenszwalb_threaded_std_3D = []\n",
    "\n",
    "felzenszwalb_threaded_minimum_3D_depth = []\n",
    "felzenszwalb_threaded_std_3D_depth = []\n",
    "\n",
    "# felzenszwalb_threaded_minimum_3D_nonthread = []\n",
    "# felzenszwalb_threaded_std_3D_nonthread = []\n",
    "\n",
    "# felzenszwalb_threaded_minimum_3D_worksteal = []\n",
    "# felzenszwalb_threaded_std_3D_worksteal = []\n",
    "\n",
    "felzenszwalb_gpu_minimum_3D = []\n",
    "felzenszwalb_gpu_std_3D = []\n",
    "\n",
    "for f in test_cases_3D\n",
    "    ####--- Maurer (ImageMorphology) ---####\n",
    "    maurer = @benchmark transform($f, $Maurer())\n",
    "    append!(maurer_minimum_3D, BenchmarkTools.minimum(maurer).time)\n",
    "    append!(maurer_std_3D, BenchmarkTools.std(maurer).time)\n",
    "\n",
    "    ####--- Felzenszwalb ---####\n",
    "    tfm = Felzenszwalb()\n",
    "    # felzenszwalb = @benchmark transform($boolean_indicator($f), $tfm)\n",
    "    # append!(felzenszwalb_minimum_3D, BenchmarkTools.minimum(felzenszwalb).time)\n",
    "    # append!(felzenszwalb_std_3D, BenchmarkTools.std(felzenszwalb).time)\n",
    "\n",
    "    # felzenszwalb = @benchmark transform!($boolean_indicator($f), $tfm)\n",
    "    # append!(felzenszwalb_inplace_minimum_3D, BenchmarkTools.minimum(felzenszwalb).time)\n",
    "    # append!(felzenszwalb_inplace_std_3D, BenchmarkTools.std(felzenszwalb).time)\n",
    "\n",
    "    # felzenszwalb = @benchmark transform!($boolean_indicator($f), $tfm, $threads)\n",
    "    # append!(felzenszwalb_threaded_minimum_3D, BenchmarkTools.minimum(felzenszwalb).time)\n",
    "    # append!(felzenszwalb_threaded_std_3D, BenchmarkTools.std(felzenszwalb).time)\n",
    "\n",
    "    output, v, z = zeros(size(f)), ones(Int32, size(f)), ones(size(f) .+ 1)\n",
    "    ex = DepthFirstEx()\n",
    "    felzenszwalb = @benchmark transform!($boolean_indicator($f), $tfm, $ex; output=$output, v=$v, z=$z)\n",
    "    append!(felzenszwalb_threaded_minimum_3D_depth, BenchmarkTools.minimum(felzenszwalb).time)\n",
    "    append!(felzenszwalb_threaded_std_3D_depth, BenchmarkTools.std(felzenszwalb).time)\n",
    "\n",
    "    # output, v, z = zeros(size(f)), ones(Int32, size(f)), ones(size(f) .+ 1)\n",
    "    # ex = NonThreadedEx()\n",
    "    # felzenszwalb = @benchmark transform!($boolean_indicator($f), $tfm, $ex; output=$output, v=$v, z=$z)\n",
    "    # append!(felzenszwalb_threaded_minimum_3D_nonthread, BenchmarkTools.minimum(felzenszwalb).time)\n",
    "    # append!(felzenszwalb_threaded_std_3D_nonthread, BenchmarkTools.std(felzenszwalb).time)\n",
    "\n",
    "    # output, v, z = zeros(size(f)), ones(Int32, size(f)), ones(size(f) .+ 1)\n",
    "    # ex = WorkStealingEx()\n",
    "    # felzenszwalb = @benchmark transform!($boolean_indicator($f), $tfm, $ex; output=$output, v=$v, z=$z)\n",
    "    # append!(felzenszwalb_threaded_minimum_3D_worksteal, BenchmarkTools.minimum(felzenszwalb).time)\n",
    "    # append!(felzenszwalb_threaded_std_3D_worksteal, BenchmarkTools.std(felzenszwalb).time)\n",
    "\n",
    "    if has_cuda_gpu()\n",
    "        output, v, z = CUDA.zeros(size(f)), CUDA.ones(Int32, size(f)), CUDA.ones(size(f) .+ 1)\n",
    "        felzenszwalb = @benchmark transform!($CuArray($boolean_indicator($f)), $tfm; output=$output, v=$v, z=$z)\n",
    "        append!(felzenszwalb_gpu_minimum_3D, BenchmarkTools.minimum(felzenszwalb).time)\n",
    "        append!(felzenszwalb_gpu_std_3D, BenchmarkTools.std(felzenszwalb).time)\n",
    "    end\n",
    "end"
   ]
  },
  {
   "cell_type": "code",
   "execution_count": 11,
   "metadata": {},
   "outputs": [],
   "source": [
    "# wenbo_inplace_minimum_3D = []\n",
    "# wenbo_inplace_std_3D = []\n",
    "\n",
    "wenbo_threaded_minimum_3D = []\n",
    "wenbo_threaded_std_3D = []\n",
    "\n",
    "# wenbo_threaded_minimum_3D_depth = []\n",
    "# wenbo_threaded_std_3D_depth = []\n",
    "\n",
    "# wenbo_threaded_minimum_3D_nonthread = []\n",
    "# wenbo_threaded_std_3D_nonthread = []\n",
    "\n",
    "# wenbo_threaded_minimum_3D_worksteal = []\n",
    "# wenbo_threaded_std_3D_worksteal = []\n",
    "\n",
    "wenbo_gpu_minimum_3D = []\n",
    "wenbo_gpu_std_3D = []\n",
    "\n",
    "for f in test_cases_3D\n",
    "    ####--- Wenbo ---####\n",
    "    tfm2 = Wenbo()\n",
    "    # wenbo = @benchmark transform($f, $tfm2)\n",
    "    # append!(wenbo_inplace_minimum_3D, BenchmarkTools.minimum(wenbo).time)\n",
    "    # append!(wenbo_inplace_std_3D, BenchmarkTools.std(wenbo).time)\n",
    "\n",
    "    wenbo = @benchmark transform($f, $tfm2, $threads)\n",
    "    append!(wenbo_threaded_minimum_3D, BenchmarkTools.minimum(wenbo).time)\n",
    "    append!(wenbo_threaded_std_3D, BenchmarkTools.std(wenbo).time)\n",
    "\n",
    "    # ex = DepthFirstEx()\n",
    "    # wenbo = @benchmark transform($f, $tfm2, $ex)\n",
    "    # append!(wenbo_threaded_minimum_3D_depth, BenchmarkTools.minimum(wenbo).time)\n",
    "    # append!(wenbo_threaded_std_3D_depth, BenchmarkTools.std(wenbo).time)\n",
    "\n",
    "    # ex = NonThreadedEx()\n",
    "    # wenbo = @benchmark transform($f, $tfm2, $ex)\n",
    "    # append!(wenbo_threaded_minimum_3D_nonthread, BenchmarkTools.minimum(wenbo).time)\n",
    "    # append!(wenbo_threaded_std_3D_nonthread, BenchmarkTools.std(wenbo).time)\n",
    "\n",
    "    # ex = WorkStealingEx()\n",
    "    # wenbo = @benchmark transform($f, $tfm2, $ex)\n",
    "    # append!(wenbo_threaded_minimum_3D_worksteal, BenchmarkTools.minimum(wenbo).time)\n",
    "    # append!(wenbo_threaded_std_3D_worksteal, BenchmarkTools.std(wenbo).time)\n",
    "\n",
    "    if has_cuda_gpu()\n",
    "        f_cu = CuArray(f)\n",
    "        wenbo = @benchmark transform($f_cu, $tfm2, $ks)\n",
    "        append!(wenbo_gpu_minimum_3D, BenchmarkTools.minimum(wenbo).time)\n",
    "        append!(wenbo_gpu_std_3D, BenchmarkTools.std(wenbo).time)\n",
    "    end\n",
    "end"
   ]
  },
  {
   "cell_type": "code",
   "execution_count": 12,
   "metadata": {},
   "outputs": [
    {
     "data": {
      "text/plain": [
       "\"c:\\\\Users\\\\wenbl13\\\\Desktop\\\\Ashwin-Timing\\\\distance-transforms/dt_3D_min.csv\""
      ]
     },
     "metadata": {},
     "output_type": "display_data"
    }
   ],
   "source": [
    "path = current_dir * \"/dt_3D_min.csv\"\n",
    "if has_cuda_gpu()\n",
    "    df = DataFrame(\n",
    "        sizes_3D = Float64.(sizes_3D),\n",
    "        maurer_minimum_3D = Float64.(maurer_minimum_3D),\n",
    "        maurer_std_3D = Float64.(maurer_std_3D),\n",
    "        # felzenszwalb_minimum_3D = Float64.(felzenszwalb_minimum_3D),\n",
    "        # felzenszwalb_std_3D = Float64.(felzenszwalb_std_3D),\n",
    "        # felzenszwalb_inplace_minimum_3D = Float64.(felzenszwalb_inplace_minimum_3D),\n",
    "        # felzenszwalb_inplace_std_3D = Float64.(felzenszwalb_inplace_std_3D),\n",
    "        # felzenszwalb_threaded_minimum_3D = Float64.(felzenszwalb_threaded_minimum_3D),\n",
    "        # felzenszwalb_threaded_std_3D = Float64.(felzenszwalb_threaded_std_3D),\n",
    "        felzenszwalb_threaded_minimum_3D_depth = Float64.(felzenszwalb_threaded_minimum_3D_depth),\n",
    "        felzenszwalb_threaded_std_3D_depth = Float64.(felzenszwalb_threaded_std_3D_depth),\n",
    "        # felzenszwalb_threaded_minimum_3D_nonthread = Float64.(felzenszwalb_threaded_minimum_3D_nonthread),\n",
    "        # felzenszwalb_threaded_std_3D_nonthread = Float64.(felzenszwalb_threaded_std_3D_nonthread),\n",
    "        # felzenszwalb_threaded_minimum_3D_worksteal = Float64.(felzenszwalb_threaded_minimum_3D_worksteal),\n",
    "        # felzenszwalb_threaded_std_3D_worksteal = Float64.(felzenszwalb_threaded_std_3D_worksteal),\n",
    "        felzenszwalb_gpu_minimum_3D = Float64.(felzenszwalb_gpu_minimum_3D),\n",
    "        felzenszwalb_gpu_std_3D = Float64.(felzenszwalb_gpu_std_3D),\n",
    "        # wenbo_inplace_minimum_3D = Float64.(wenbo_inplace_minimum_3D),\n",
    "        # wenbo_inplace_std_3D = Float64.(wenbo_inplace_std_3D),\n",
    "        wenbo_threaded_minimum_3D = Float64.(wenbo_threaded_minimum_3D),\n",
    "        wenbo_threaded_std_3D = Float64.(wenbo_threaded_std_3D),\n",
    "        # wenbo_threaded_minimum_3D_depth = Float64.(wenbo_threaded_minimum_3D_depth),\n",
    "        # wenbo_threaded_std_3D_depth = Float64.(wenbo_threaded_std_3D_depth),\n",
    "        # wenbo_threaded_minimum_3D_nonthread = Float64.(wenbo_threaded_minimum_3D_nonthread),\n",
    "        # wenbo_threaded_std_3D_nonthread = Float64.(wenbo_threaded_std_3D_nonthread),\n",
    "        # wenbo_threaded_minimum_3D_worksteal = Float64.(wenbo_threaded_minimum_3D_worksteal),\n",
    "        # wenbo_threaded_std_3D_worksteal = Float64.(wenbo_threaded_std_3D_worksteal),\n",
    "        wenbo_gpu_minimum_3D = Float64.(wenbo_gpu_minimum_3D),\n",
    "        wenbo_gpu_std_3D = Float64.(wenbo_gpu_std_3D)\n",
    "    )\n",
    "else\n",
    "    df = DataFrame(\n",
    "        sizes_3D = Float64.(sizes_3D),\n",
    "        maurer_minimum_3D = Float64.(maurer_minimum_3D),\n",
    "        maurer_std_3D = Float64.(maurer_std_3D),\n",
    "        # felzenszwalb_minimum_3D = Float64.(felzenszwalb_minimum_3D),\n",
    "        # felzenszwalb_std_3D = Float64.(felzenszwalb_std_3D),\n",
    "        # felzenszwalb_inplace_minimum_3D = Float64.(felzenszwalb_inplace_minimum_3D),\n",
    "        # felzenszwalb_inplace_std_3D = Float64.(felzenszwalb_inplace_std_3D),\n",
    "        # felzenszwalb_threaded_minimum_3D = Float64.(felzenszwalb_threaded_minimum_3D),\n",
    "        # felzenszwalb_threaded_std_3D = Float64.(felzenszwalb_threaded_std_3D),\n",
    "        felzenszwalb_threaded_minimum_3D_depth = Float64.(felzenszwalb_threaded_minimum_3D_depth),\n",
    "        felzenszwalb_threaded_std_3D_depth = Float64.(felzenszwalb_threaded_std_3D_depth),\n",
    "        # felzenszwalb_threaded_minimum_3D_nonthread = Float64.(felzenszwalb_threaded_minimum_3D_nonthread),\n",
    "        # felzenszwalb_threaded_std_3D_nonthread = Float64.(felzenszwalb_threaded_std_3D_nonthread),\n",
    "        # felzenszwalb_threaded_minimum_3D_worksteal = Float64.(felzenszwalb_threaded_minimum_3D_worksteal),\n",
    "        # felzenszwalb_threaded_std_3D_worksteal = Float64.(felzenszwalb_threaded_std_3D_worksteal),\n",
    "        # wenbo_inplace_minimum_3D = Float64.(wenbo_inplace_minimum_3D),\n",
    "        # wenbo_inplace_std_3D = Float64.(wenbo_inplace_std_3D),\n",
    "        wenbo_threaded_minimum_3D = Float64.(wenbo_threaded_minimum_3D),\n",
    "        wenbo_threaded_std_3D = Float64.(wenbo_threaded_std_3D),\n",
    "        # wenbo_threaded_minimum_3D_depth = Float64.(wenbo_threaded_minimum_3D_depth),\n",
    "        # wenbo_threaded_std_3D_depth = Float64.(wenbo_threaded_std_3D_depth),\n",
    "        # wenbo_threaded_minimum_3D_nonthread = Float64.(wenbo_threaded_minimum_3D_nonthread),\n",
    "        # wenbo_threaded_std_3D_nonthread = Float64.(wenbo_threaded_std_3D_nonthread),\n",
    "        # wenbo_threaded_minimum_3D_worksteal = Float64.(wenbo_threaded_minimum_3D_worksteal),\n",
    "        # wenbo_threaded_std_3D_worksteal = Float64.(wenbo_threaded_std_3D_worksteal)\n",
    "    )\n",
    "end\n",
    "CSV.write(path, df)"
   ]
  },
  {
   "cell_type": "markdown",
   "metadata": {},
   "source": [
    "# Loss Functions\n",
    "## 2D"
   ]
  },
  {
   "cell_type": "code",
   "execution_count": 13,
   "metadata": {},
   "outputs": [],
   "source": [
    "# dice_minimum_2D = []\n",
    "# dice_std_2D = []\n",
    "\n",
    "# dice_minimum_gpu_2D = []\n",
    "# dice_std_gpu_2D = []\n",
    "\n",
    "# hausdorff_minimum_2D = []\n",
    "# hausdorff_std_2D = []\n",
    "\n",
    "# hausdorff_minimum_gpu_2D = []\n",
    "# hausdorff_std_gpu_2D = []\n",
    "\n",
    "# sizes_loss_2D = []\n",
    "\n",
    "# for n in num_range\n",
    "#     n = Int(round(n))\n",
    "#     _size = n^2\n",
    "#     push!(sizes_loss_2D, _size)\n",
    "#     @info \"n = $(n)\"\n",
    "#     f1 = Bool.(rand([0, 1], n, n))\n",
    "#     f2 = Bool.(rand([0, 1], n, n))\n",
    "    \n",
    "#     # DICE\n",
    "#     dice_loss = @benchmark dice($f1, $f2)\n",
    "#     append!(dice_minimum_2D, BenchmarkTools.minimum(dice_loss).time)\n",
    "#     append!(dice_std_2D, BenchmarkTools.std(dice_loss).time)\n",
    "\n",
    "\n",
    "    \n",
    "#     # Hausdorff\n",
    "#     tfm = Wenbo()\n",
    "#     f1_dtm = transform(f1, tfm)\n",
    "#     f2_dtm = transform(f2, tfm)\n",
    "#     hausdorff_loss = @benchmark hausdorff($f1, $f2, $f1_dtm, $f2_dtm)\n",
    "#     append!(hausdorff_minimum_2D, BenchmarkTools.minimum(hausdorff_loss).time)\n",
    "#     append!(hausdorff_std_2D, BenchmarkTools.std(hausdorff_loss).time)\n",
    "\n",
    "\n",
    "#     # DICE GPU\n",
    "#     if has_cuda_gpu()\n",
    "#         f1_gpu = CuArray(f1)\n",
    "#         f2_gpu = CuArray(f2)\n",
    "#         dice_loss = @benchmark dice($f1, $f2)\n",
    "#         append!(dice_minimum_gpu_2D, BenchmarkTools.minimum(dice_loss).time)\n",
    "#         append!(dice_std_gpu_2D, BenchmarkTools.std(dice_loss).time)\n",
    "#     end\n",
    "\n",
    "#     # Hausdorff GPU\n",
    "#     if has_cuda_gpu()\n",
    "#         tfm = Wenbo()\n",
    "#         f1_dtm_gpu = transform(f1_gpu, tfm, ks)\n",
    "#         f2_dtm_gpu = transform(f2_gpu, tfm, ks)\n",
    "\n",
    "#         hausdorff_loss = @benchmark hausdorff($f1_gpu, $f2_gpu, $f1_dtm_gpu, $f2_dtm_gpu)\n",
    "#         append!(hausdorff_minimum_gpu_2D, BenchmarkTools.minimum(hausdorff_loss).time)\n",
    "#         append!(hausdorff_std_gpu_2D, BenchmarkTools.std(hausdorff_loss).time)\n",
    "#     end\n",
    "# end"
   ]
  },
  {
   "cell_type": "code",
   "execution_count": 14,
   "metadata": {},
   "outputs": [],
   "source": [
    "# path = current_dir * \"/loss_2D.csv\"\n",
    "# if has_cuda_gpu()\n",
    "#     df = DataFrame(\n",
    "#         sizes_loss_2D = Float64.(sizes_loss_2D),\n",
    "#         dice_minimum_2D = Float64.(dice_minimum_2D),\n",
    "#         dice_std_2D = Float64.(dice_std_2D),\n",
    "#         dice_minimum_gpu_2D = Float64.(dice_minimum_gpu_2D),\n",
    "#         dice_std_gpu_2D = Float64.(dice_std_gpu_2D),\n",
    "#         hausdorff_minimum_2D = Float64.(hausdorff_minimum_2D),\n",
    "#         hausdorff_std_2D = Float64.(hausdorff_std_2D),\n",
    "#         hausdorff_minimum_gpu_2D = Float64.(hausdorff_minimum_gpu_2D),\n",
    "#         hausdorff_std_gpu_2D = Float64.(hausdorff_std_gpu_2D)\n",
    "#     )\n",
    "# else\n",
    "#     df = DataFrame(\n",
    "#         sizes_loss_2D = Float64.(sizes_loss_2D),\n",
    "#         dice_minimum_2D = Float64.(dice_minimum_2D),\n",
    "#         dice_std_2D = Float64.(dice_std_2D),\n",
    "#         hausdorff_minimum_2D = Float64.(hausdorff_minimum_2D),\n",
    "#         hausdorff_std_2D = Float64.(hausdorff_std_2D),\n",
    "#     )\n",
    "# end\n",
    "# CSV.write(path, df)"
   ]
  },
  {
   "cell_type": "markdown",
   "metadata": {},
   "source": [
    "## 3D"
   ]
  },
  {
   "cell_type": "code",
   "execution_count": 15,
   "metadata": {},
   "outputs": [],
   "source": [
    "# dice_minimum_3D = []\n",
    "# dice_std_3D = []\n",
    "\n",
    "# dice_minimum_gpu_3D = []\n",
    "# dice_std_gpu_3D = []\n",
    "\n",
    "# hausdorff_minimum_3D = []\n",
    "# hausdorff_std_3D = []\n",
    "\n",
    "# hausdorff_minimum_gpu_3D = []\n",
    "# hausdorff_std_gpu_3D = []\n",
    "\n",
    "# sizes_loss_3D = []\n",
    "\n",
    "# for n in num_range\n",
    "#     n = Int(round(n))\n",
    "#     _size = n^3\n",
    "#     push!(sizes_loss_3D, _size)\n",
    "#     @info \"n = $(n)\"\n",
    "#     f1 = Bool.(rand([0, 1], n, n, n))\n",
    "#     f2 = Bool.(rand([0, 1], n, n, n))\n",
    "    \n",
    "#     # DICE\n",
    "#     dice_loss = @benchmark dice($f1, $f2)\n",
    "#     append!(dice_minimum_3D, BenchmarkTools.minimum(dice_loss).time)\n",
    "#     append!(dice_std_3D, BenchmarkTools.std(dice_loss).time)\n",
    "\n",
    "\n",
    "    \n",
    "#     # Hausdorff\n",
    "#     tfm = Wenbo()\n",
    "#     f1_dtm = transform(f1, tfm)\n",
    "#     f2_dtm = transform(f2, tfm)\n",
    "#     hausdorff_loss = @benchmark hausdorff($f1, $f2, $f1_dtm, $f2_dtm)\n",
    "#     append!(hausdorff_minimum_3D, BenchmarkTools.minimum(hausdorff_loss).time)\n",
    "#     append!(hausdorff_std_3D, BenchmarkTools.std(hausdorff_loss).time)\n",
    "\n",
    "\n",
    "#     # DICE GPU\n",
    "#     if has_cuda_gpu()\n",
    "#         f1_gpu = CuArray(f1)\n",
    "#         f2_gpu = CuArray(f2)\n",
    "#         dice_loss = @benchmark dice($f1, $f2)\n",
    "#         append!(dice_minimum_gpu_3D, BenchmarkTools.minimum(dice_loss).time)\n",
    "#         append!(dice_std_gpu_3D, BenchmarkTools.std(dice_loss).time)\n",
    "#     end\n",
    "\n",
    "#     # Hausdorff GPU\n",
    "#     if has_cuda_gpu()\n",
    "#         tfm = Wenbo()\n",
    "#         f1_dtm_gpu = transform(f1_gpu, tfm, ks)\n",
    "#         f2_dtm_gpu = transform(f2_gpu, tfm, ks)\n",
    "\n",
    "#         hausdorff_loss = @benchmark hausdorff($f1_gpu, $f2_gpu, $f1_dtm_gpu, $f2_dtm_gpu)\n",
    "#         append!(hausdorff_minimum_gpu_3D, BenchmarkTools.minimum(hausdorff_loss).time)\n",
    "#         append!(hausdorff_std_gpu_3D, BenchmarkTools.std(hausdorff_loss).time)\n",
    "#     end\n",
    "    \n",
    "# end"
   ]
  },
  {
   "cell_type": "code",
   "execution_count": 16,
   "metadata": {},
   "outputs": [],
   "source": [
    "# path = current_dir * \"/loss_3D.csv\"\n",
    "# if has_cuda_gpu()\n",
    "#     df = DataFrame(\n",
    "#         sizes_loss_3D = Float64.(sizes_loss_3D),\n",
    "#         dice_minimum_3D = Float64.(dice_minimum_3D),\n",
    "#         dice_std_3D = Float64.(dice_std_3D),\n",
    "#         dice_minimum_gpu_3D = Float64.(dice_minimum_gpu_3D),\n",
    "#         dice_std_gpu_3D = Float64.(dice_std_gpu_3D),\n",
    "#         hausdorff_minimum_3D = Float64.(hausdorff_minimum_3D),\n",
    "#         hausdorff_std_3D = Float64.(hausdorff_std_3D),\n",
    "#         hausdorff_minimum_gpu_3D = Float64.(hausdorff_minimum_gpu_3D),\n",
    "#         hausdorff_std_gpu_3D = Float64.(hausdorff_std_gpu_3D)\n",
    "#     )\n",
    "# else\n",
    "#     df = DataFrame(\n",
    "#         sizes_loss_3D = Float64.(sizes_loss_3D),\n",
    "#         dice_minimum_3D = Float64.(dice_minimum_3D),\n",
    "#         dice_std_3D = Float64.(dice_std_3D),\n",
    "#         hausdorff_minimum_3D = Float64.(hausdorff_minimum_3D),\n",
    "#         hausdorff_std_3D = Float64.(hausdorff_std_3D),\n",
    "#     )\n",
    "# end\n",
    "# CSV.write(path, df)"
   ]
  }
 ],
 "metadata": {
  "kernelspec": {
   "display_name": "Julia 1.8.4",
   "language": "julia",
   "name": "julia-1.8"
  },
  "language_info": {
   "file_extension": ".jl",
   "mimetype": "application/julia",
   "name": "julia",
   "version": "1.8.4"
  },
  "orig_nbformat": 4,
  "vscode": {
   "interpreter": {
    "hash": "2a8dfe095fce2b5e88c64a2c3ee084c8e0e0d70b23e7b95b1cfb538be294c5c8"
   }
  }
 },
 "nbformat": 4,
 "nbformat_minor": 2
}
